{
  "cells": [
    {
      "cell_type": "markdown",
      "metadata": {
        "id": "imKij0bB4DR5"
      },
      "source": [
        "# Análisis Exploratorio de Datos - Pokémon\n",
        "\n",
        "Este notebook contiene un análisis exploratorio del dataset de Pokémon. Vamos a:\n",
        "- Explorar la estructura de los datos\n",
        "- Limpiar y preparar los datos\n",
        "- Realizar análisis estadístico\n",
        "- Crear visualizaciones\n",
        "- Identificar patrones y oportunidades de análisis"
      ]
    },
    {
      "cell_type": "markdown",
      "metadata": {
        "id": "RA-CqpgH4DR9"
      },
      "source": [
        "## 1. Importación de Librerías"
      ]
    },
    {
      "cell_type": "code",
      "execution_count": 1,
      "metadata": {
        "id": "5jhyU17E4DR9"
      },
      "outputs": [],
      "source": [
        "# Importamos las librerías necesarias\n",
        "import pandas as pd\n",
        "import numpy as np\n",
        "import matplotlib.pyplot as plt\n",
        "import seaborn as sns\n",
        "\n",
        "# Para mostrar todas las columnas\n",
        "pd.set_option('display.max_columns', None)\n",
        "pd.set_option('display.max_rows', 100)"
      ]
    },
    {
      "cell_type": "markdown",
      "metadata": {
        "id": "LXxTjYfq4DR_"
      },
      "source": [
        "## 2. Carga de Datos"
      ]
    },
    {
      "cell_type": "code",
      "source": [
        "# Este comando conecta colab con drive.\n",
        "from google.colab import drive\n",
        "drive.mount('/content/drive')"
      ],
      "metadata": {
        "colab": {
          "base_uri": "https://localhost:8080/"
        },
        "id": "XTlEdFoL4Jqk",
        "outputId": "11cc76db-ba8e-4a7c-8fd9-1e95293a1379"
      },
      "execution_count": 2,
      "outputs": [
        {
          "output_type": "stream",
          "name": "stdout",
          "text": [
            "Mounted at /content/drive\n"
          ]
        }
      ]
    },
    {
      "cell_type": "code",
      "source": [
        "#Hacemos la conexion con la plantilla de datos a trabajar\n",
        "path = \"/content/drive/MyDrive/ColabTest/Clase Profe/Marchine Learning/Core/BD/pokemon_data.csv\"\n",
        "df = pd.read_csv(path)"
      ],
      "metadata": {
        "id": "96g2ois44InN"
      },
      "execution_count": 3,
      "outputs": []
    },
    {
      "cell_type": "markdown",
      "metadata": {
        "id": "Rtd2yADS4DR_"
      },
      "source": [
        "## 3. Información General del Dataset"
      ]
    },
    {
      "cell_type": "code",
      "execution_count": 4,
      "metadata": {
        "colab": {
          "base_uri": "https://localhost:8080/"
        },
        "id": "70irwjCD4DSA",
        "outputId": "d99e5654-943c-48fa-8477-6c3bcd676d25"
      },
      "outputs": [
        {
          "output_type": "stream",
          "name": "stdout",
          "text": [
            "Información del dataset:\n",
            "<class 'pandas.core.frame.DataFrame'>\n",
            "RangeIndex: 1302 entries, 0 to 1301\n",
            "Data columns (total 9 columns):\n",
            " #   Column           Non-Null Count  Dtype \n",
            "---  ------           --------------  ----- \n",
            " 0   id               1302 non-null   int64 \n",
            " 1   name             1302 non-null   object\n",
            " 2   base_experience  1302 non-null   int64 \n",
            " 3   height           1302 non-null   int64 \n",
            " 4   weight           1302 non-null   int64 \n",
            " 5   types            1302 non-null   object\n",
            " 6   abilities        1302 non-null   object\n",
            " 7   moves            1268 non-null   object\n",
            " 8   stats            1302 non-null   object\n",
            "dtypes: int64(4), object(5)\n",
            "memory usage: 91.7+ KB\n"
          ]
        }
      ],
      "source": [
        "# Información sobre tipos de datos\n",
        "print(\"Información del dataset:\")\n",
        "df.info()"
      ]
    },
    {
      "cell_type": "code",
      "execution_count": 5,
      "metadata": {
        "colab": {
          "base_uri": "https://localhost:8080/"
        },
        "id": "MwcxmwVB4DSA",
        "outputId": "f4528028-163d-49e3-eb94-86d122b895fa"
      },
      "outputs": [
        {
          "output_type": "stream",
          "name": "stdout",
          "text": [
            "Columnas del dataset:\n",
            "['id', 'name', 'base_experience', 'height', 'weight', 'types', 'abilities', 'moves', 'stats']\n"
          ]
        }
      ],
      "source": [
        "# Nombres de las columnas\n",
        "print(\"Columnas del dataset:\")\n",
        "print(df.columns.tolist())"
      ]
    },
    {
      "cell_type": "code",
      "source": [
        "#Revisamos el dataFrame\n",
        "df"
      ],
      "metadata": {
        "colab": {
          "base_uri": "https://localhost:8080/",
          "height": 424
        },
        "id": "3V6zdcHAI0hh",
        "outputId": "8a37693f-30fb-4c36-d762-4b3f6208ba24"
      },
      "execution_count": 11,
      "outputs": [
        {
          "output_type": "execute_result",
          "data": {
            "text/plain": [
              "         id                      name  base_experience  height  weight  \\\n",
              "0         1                 bulbasaur               64       7      69   \n",
              "1         2                   ivysaur              142      10     130   \n",
              "2         3                  venusaur              236      20    1000   \n",
              "3         4                charmander               62       6      85   \n",
              "4         5                charmeleon              142      11     190   \n",
              "...     ...                       ...              ...     ...     ...   \n",
              "1297  10273   ogerpon-wellspring-mask              275      12     398   \n",
              "1298  10274  ogerpon-hearthflame-mask              275      12     398   \n",
              "1299  10275  ogerpon-cornerstone-mask              275      12     398   \n",
              "1300  10276        terapagos-terastal               90       3     160   \n",
              "1301  10277         terapagos-stellar               90      17     770   \n",
              "\n",
              "              types              abilities  \\\n",
              "0     grass, poison  overgrow, chlorophyll   \n",
              "1     grass, poison  overgrow, chlorophyll   \n",
              "2     grass, poison  overgrow, chlorophyll   \n",
              "3              fire     blaze, solar-power   \n",
              "4              fire     blaze, solar-power   \n",
              "...             ...                    ...   \n",
              "1297   grass, water           water-absorb   \n",
              "1298    grass, fire           mold-breaker   \n",
              "1299    grass, rock                 sturdy   \n",
              "1300         normal             tera-shell   \n",
              "1301         normal          teraform-zero   \n",
              "\n",
              "                                                  moves  \\\n",
              "0        razor-wind, swords-dance, cut, bind, vine-whip   \n",
              "1          swords-dance, cut, bind, vine-whip, headbutt   \n",
              "2          swords-dance, cut, bind, vine-whip, headbutt   \n",
              "3     mega-punch, fire-punch, thunder-punch, scratch...   \n",
              "4     mega-punch, fire-punch, thunder-punch, scratch...   \n",
              "...                                                 ...   \n",
              "1297  swords-dance, slam, vine-whip, double-kick, ta...   \n",
              "1298  swords-dance, slam, vine-whip, double-kick, ta...   \n",
              "1299  swords-dance, slam, vine-whip, double-kick, ta...   \n",
              "1300  headbutt, body-slam, take-down, double-edge, roar   \n",
              "1301  headbutt, body-slam, take-down, double-edge, roar   \n",
              "\n",
              "                                                  stats  \n",
              "0     hp=45, attack=49, defense=49, special-attack=6...  \n",
              "1     hp=60, attack=62, defense=63, special-attack=8...  \n",
              "2     hp=80, attack=82, defense=83, special-attack=1...  \n",
              "3     hp=39, attack=52, defense=43, special-attack=6...  \n",
              "4     hp=58, attack=64, defense=58, special-attack=8...  \n",
              "...                                                 ...  \n",
              "1297  hp=80, attack=120, defense=84, special-attack=...  \n",
              "1298  hp=80, attack=120, defense=84, special-attack=...  \n",
              "1299  hp=80, attack=120, defense=84, special-attack=...  \n",
              "1300  hp=95, attack=95, defense=110, special-attack=...  \n",
              "1301  hp=160, attack=105, defense=110, special-attac...  \n",
              "\n",
              "[1302 rows x 9 columns]"
            ],
            "text/html": [
              "\n",
              "  <div id=\"df-8ee9ba0c-ea7a-41c1-b533-354600a1a938\" class=\"colab-df-container\">\n",
              "    <div>\n",
              "<style scoped>\n",
              "    .dataframe tbody tr th:only-of-type {\n",
              "        vertical-align: middle;\n",
              "    }\n",
              "\n",
              "    .dataframe tbody tr th {\n",
              "        vertical-align: top;\n",
              "    }\n",
              "\n",
              "    .dataframe thead th {\n",
              "        text-align: right;\n",
              "    }\n",
              "</style>\n",
              "<table border=\"1\" class=\"dataframe\">\n",
              "  <thead>\n",
              "    <tr style=\"text-align: right;\">\n",
              "      <th></th>\n",
              "      <th>id</th>\n",
              "      <th>name</th>\n",
              "      <th>base_experience</th>\n",
              "      <th>height</th>\n",
              "      <th>weight</th>\n",
              "      <th>types</th>\n",
              "      <th>abilities</th>\n",
              "      <th>moves</th>\n",
              "      <th>stats</th>\n",
              "    </tr>\n",
              "  </thead>\n",
              "  <tbody>\n",
              "    <tr>\n",
              "      <th>0</th>\n",
              "      <td>1</td>\n",
              "      <td>bulbasaur</td>\n",
              "      <td>64</td>\n",
              "      <td>7</td>\n",
              "      <td>69</td>\n",
              "      <td>grass, poison</td>\n",
              "      <td>overgrow, chlorophyll</td>\n",
              "      <td>razor-wind, swords-dance, cut, bind, vine-whip</td>\n",
              "      <td>hp=45, attack=49, defense=49, special-attack=6...</td>\n",
              "    </tr>\n",
              "    <tr>\n",
              "      <th>1</th>\n",
              "      <td>2</td>\n",
              "      <td>ivysaur</td>\n",
              "      <td>142</td>\n",
              "      <td>10</td>\n",
              "      <td>130</td>\n",
              "      <td>grass, poison</td>\n",
              "      <td>overgrow, chlorophyll</td>\n",
              "      <td>swords-dance, cut, bind, vine-whip, headbutt</td>\n",
              "      <td>hp=60, attack=62, defense=63, special-attack=8...</td>\n",
              "    </tr>\n",
              "    <tr>\n",
              "      <th>2</th>\n",
              "      <td>3</td>\n",
              "      <td>venusaur</td>\n",
              "      <td>236</td>\n",
              "      <td>20</td>\n",
              "      <td>1000</td>\n",
              "      <td>grass, poison</td>\n",
              "      <td>overgrow, chlorophyll</td>\n",
              "      <td>swords-dance, cut, bind, vine-whip, headbutt</td>\n",
              "      <td>hp=80, attack=82, defense=83, special-attack=1...</td>\n",
              "    </tr>\n",
              "    <tr>\n",
              "      <th>3</th>\n",
              "      <td>4</td>\n",
              "      <td>charmander</td>\n",
              "      <td>62</td>\n",
              "      <td>6</td>\n",
              "      <td>85</td>\n",
              "      <td>fire</td>\n",
              "      <td>blaze, solar-power</td>\n",
              "      <td>mega-punch, fire-punch, thunder-punch, scratch...</td>\n",
              "      <td>hp=39, attack=52, defense=43, special-attack=6...</td>\n",
              "    </tr>\n",
              "    <tr>\n",
              "      <th>4</th>\n",
              "      <td>5</td>\n",
              "      <td>charmeleon</td>\n",
              "      <td>142</td>\n",
              "      <td>11</td>\n",
              "      <td>190</td>\n",
              "      <td>fire</td>\n",
              "      <td>blaze, solar-power</td>\n",
              "      <td>mega-punch, fire-punch, thunder-punch, scratch...</td>\n",
              "      <td>hp=58, attack=64, defense=58, special-attack=8...</td>\n",
              "    </tr>\n",
              "    <tr>\n",
              "      <th>...</th>\n",
              "      <td>...</td>\n",
              "      <td>...</td>\n",
              "      <td>...</td>\n",
              "      <td>...</td>\n",
              "      <td>...</td>\n",
              "      <td>...</td>\n",
              "      <td>...</td>\n",
              "      <td>...</td>\n",
              "      <td>...</td>\n",
              "    </tr>\n",
              "    <tr>\n",
              "      <th>1297</th>\n",
              "      <td>10273</td>\n",
              "      <td>ogerpon-wellspring-mask</td>\n",
              "      <td>275</td>\n",
              "      <td>12</td>\n",
              "      <td>398</td>\n",
              "      <td>grass, water</td>\n",
              "      <td>water-absorb</td>\n",
              "      <td>swords-dance, slam, vine-whip, double-kick, ta...</td>\n",
              "      <td>hp=80, attack=120, defense=84, special-attack=...</td>\n",
              "    </tr>\n",
              "    <tr>\n",
              "      <th>1298</th>\n",
              "      <td>10274</td>\n",
              "      <td>ogerpon-hearthflame-mask</td>\n",
              "      <td>275</td>\n",
              "      <td>12</td>\n",
              "      <td>398</td>\n",
              "      <td>grass, fire</td>\n",
              "      <td>mold-breaker</td>\n",
              "      <td>swords-dance, slam, vine-whip, double-kick, ta...</td>\n",
              "      <td>hp=80, attack=120, defense=84, special-attack=...</td>\n",
              "    </tr>\n",
              "    <tr>\n",
              "      <th>1299</th>\n",
              "      <td>10275</td>\n",
              "      <td>ogerpon-cornerstone-mask</td>\n",
              "      <td>275</td>\n",
              "      <td>12</td>\n",
              "      <td>398</td>\n",
              "      <td>grass, rock</td>\n",
              "      <td>sturdy</td>\n",
              "      <td>swords-dance, slam, vine-whip, double-kick, ta...</td>\n",
              "      <td>hp=80, attack=120, defense=84, special-attack=...</td>\n",
              "    </tr>\n",
              "    <tr>\n",
              "      <th>1300</th>\n",
              "      <td>10276</td>\n",
              "      <td>terapagos-terastal</td>\n",
              "      <td>90</td>\n",
              "      <td>3</td>\n",
              "      <td>160</td>\n",
              "      <td>normal</td>\n",
              "      <td>tera-shell</td>\n",
              "      <td>headbutt, body-slam, take-down, double-edge, roar</td>\n",
              "      <td>hp=95, attack=95, defense=110, special-attack=...</td>\n",
              "    </tr>\n",
              "    <tr>\n",
              "      <th>1301</th>\n",
              "      <td>10277</td>\n",
              "      <td>terapagos-stellar</td>\n",
              "      <td>90</td>\n",
              "      <td>17</td>\n",
              "      <td>770</td>\n",
              "      <td>normal</td>\n",
              "      <td>teraform-zero</td>\n",
              "      <td>headbutt, body-slam, take-down, double-edge, roar</td>\n",
              "      <td>hp=160, attack=105, defense=110, special-attac...</td>\n",
              "    </tr>\n",
              "  </tbody>\n",
              "</table>\n",
              "<p>1302 rows × 9 columns</p>\n",
              "</div>\n",
              "    <div class=\"colab-df-buttons\">\n",
              "\n",
              "  <div class=\"colab-df-container\">\n",
              "    <button class=\"colab-df-convert\" onclick=\"convertToInteractive('df-8ee9ba0c-ea7a-41c1-b533-354600a1a938')\"\n",
              "            title=\"Convert this dataframe to an interactive table.\"\n",
              "            style=\"display:none;\">\n",
              "\n",
              "  <svg xmlns=\"http://www.w3.org/2000/svg\" height=\"24px\" viewBox=\"0 -960 960 960\">\n",
              "    <path d=\"M120-120v-720h720v720H120Zm60-500h600v-160H180v160Zm220 220h160v-160H400v160Zm0 220h160v-160H400v160ZM180-400h160v-160H180v160Zm440 0h160v-160H620v160ZM180-180h160v-160H180v160Zm440 0h160v-160H620v160Z\"/>\n",
              "  </svg>\n",
              "    </button>\n",
              "\n",
              "  <style>\n",
              "    .colab-df-container {\n",
              "      display:flex;\n",
              "      gap: 12px;\n",
              "    }\n",
              "\n",
              "    .colab-df-convert {\n",
              "      background-color: #E8F0FE;\n",
              "      border: none;\n",
              "      border-radius: 50%;\n",
              "      cursor: pointer;\n",
              "      display: none;\n",
              "      fill: #1967D2;\n",
              "      height: 32px;\n",
              "      padding: 0 0 0 0;\n",
              "      width: 32px;\n",
              "    }\n",
              "\n",
              "    .colab-df-convert:hover {\n",
              "      background-color: #E2EBFA;\n",
              "      box-shadow: 0px 1px 2px rgba(60, 64, 67, 0.3), 0px 1px 3px 1px rgba(60, 64, 67, 0.15);\n",
              "      fill: #174EA6;\n",
              "    }\n",
              "\n",
              "    .colab-df-buttons div {\n",
              "      margin-bottom: 4px;\n",
              "    }\n",
              "\n",
              "    [theme=dark] .colab-df-convert {\n",
              "      background-color: #3B4455;\n",
              "      fill: #D2E3FC;\n",
              "    }\n",
              "\n",
              "    [theme=dark] .colab-df-convert:hover {\n",
              "      background-color: #434B5C;\n",
              "      box-shadow: 0px 1px 3px 1px rgba(0, 0, 0, 0.15);\n",
              "      filter: drop-shadow(0px 1px 2px rgba(0, 0, 0, 0.3));\n",
              "      fill: #FFFFFF;\n",
              "    }\n",
              "  </style>\n",
              "\n",
              "    <script>\n",
              "      const buttonEl =\n",
              "        document.querySelector('#df-8ee9ba0c-ea7a-41c1-b533-354600a1a938 button.colab-df-convert');\n",
              "      buttonEl.style.display =\n",
              "        google.colab.kernel.accessAllowed ? 'block' : 'none';\n",
              "\n",
              "      async function convertToInteractive(key) {\n",
              "        const element = document.querySelector('#df-8ee9ba0c-ea7a-41c1-b533-354600a1a938');\n",
              "        const dataTable =\n",
              "          await google.colab.kernel.invokeFunction('convertToInteractive',\n",
              "                                                    [key], {});\n",
              "        if (!dataTable) return;\n",
              "\n",
              "        const docLinkHtml = 'Like what you see? Visit the ' +\n",
              "          '<a target=\"_blank\" href=https://colab.research.google.com/notebooks/data_table.ipynb>data table notebook</a>'\n",
              "          + ' to learn more about interactive tables.';\n",
              "        element.innerHTML = '';\n",
              "        dataTable['output_type'] = 'display_data';\n",
              "        await google.colab.output.renderOutput(dataTable, element);\n",
              "        const docLink = document.createElement('div');\n",
              "        docLink.innerHTML = docLinkHtml;\n",
              "        element.appendChild(docLink);\n",
              "      }\n",
              "    </script>\n",
              "  </div>\n",
              "\n",
              "\n",
              "    <div id=\"df-038f6573-3ac6-44cc-b27d-ea1fad9ce90b\">\n",
              "      <button class=\"colab-df-quickchart\" onclick=\"quickchart('df-038f6573-3ac6-44cc-b27d-ea1fad9ce90b')\"\n",
              "                title=\"Suggest charts\"\n",
              "                style=\"display:none;\">\n",
              "\n",
              "<svg xmlns=\"http://www.w3.org/2000/svg\" height=\"24px\"viewBox=\"0 0 24 24\"\n",
              "     width=\"24px\">\n",
              "    <g>\n",
              "        <path d=\"M19 3H5c-1.1 0-2 .9-2 2v14c0 1.1.9 2 2 2h14c1.1 0 2-.9 2-2V5c0-1.1-.9-2-2-2zM9 17H7v-7h2v7zm4 0h-2V7h2v10zm4 0h-2v-4h2v4z\"/>\n",
              "    </g>\n",
              "</svg>\n",
              "      </button>\n",
              "\n",
              "<style>\n",
              "  .colab-df-quickchart {\n",
              "      --bg-color: #E8F0FE;\n",
              "      --fill-color: #1967D2;\n",
              "      --hover-bg-color: #E2EBFA;\n",
              "      --hover-fill-color: #174EA6;\n",
              "      --disabled-fill-color: #AAA;\n",
              "      --disabled-bg-color: #DDD;\n",
              "  }\n",
              "\n",
              "  [theme=dark] .colab-df-quickchart {\n",
              "      --bg-color: #3B4455;\n",
              "      --fill-color: #D2E3FC;\n",
              "      --hover-bg-color: #434B5C;\n",
              "      --hover-fill-color: #FFFFFF;\n",
              "      --disabled-bg-color: #3B4455;\n",
              "      --disabled-fill-color: #666;\n",
              "  }\n",
              "\n",
              "  .colab-df-quickchart {\n",
              "    background-color: var(--bg-color);\n",
              "    border: none;\n",
              "    border-radius: 50%;\n",
              "    cursor: pointer;\n",
              "    display: none;\n",
              "    fill: var(--fill-color);\n",
              "    height: 32px;\n",
              "    padding: 0;\n",
              "    width: 32px;\n",
              "  }\n",
              "\n",
              "  .colab-df-quickchart:hover {\n",
              "    background-color: var(--hover-bg-color);\n",
              "    box-shadow: 0 1px 2px rgba(60, 64, 67, 0.3), 0 1px 3px 1px rgba(60, 64, 67, 0.15);\n",
              "    fill: var(--button-hover-fill-color);\n",
              "  }\n",
              "\n",
              "  .colab-df-quickchart-complete:disabled,\n",
              "  .colab-df-quickchart-complete:disabled:hover {\n",
              "    background-color: var(--disabled-bg-color);\n",
              "    fill: var(--disabled-fill-color);\n",
              "    box-shadow: none;\n",
              "  }\n",
              "\n",
              "  .colab-df-spinner {\n",
              "    border: 2px solid var(--fill-color);\n",
              "    border-color: transparent;\n",
              "    border-bottom-color: var(--fill-color);\n",
              "    animation:\n",
              "      spin 1s steps(1) infinite;\n",
              "  }\n",
              "\n",
              "  @keyframes spin {\n",
              "    0% {\n",
              "      border-color: transparent;\n",
              "      border-bottom-color: var(--fill-color);\n",
              "      border-left-color: var(--fill-color);\n",
              "    }\n",
              "    20% {\n",
              "      border-color: transparent;\n",
              "      border-left-color: var(--fill-color);\n",
              "      border-top-color: var(--fill-color);\n",
              "    }\n",
              "    30% {\n",
              "      border-color: transparent;\n",
              "      border-left-color: var(--fill-color);\n",
              "      border-top-color: var(--fill-color);\n",
              "      border-right-color: var(--fill-color);\n",
              "    }\n",
              "    40% {\n",
              "      border-color: transparent;\n",
              "      border-right-color: var(--fill-color);\n",
              "      border-top-color: var(--fill-color);\n",
              "    }\n",
              "    60% {\n",
              "      border-color: transparent;\n",
              "      border-right-color: var(--fill-color);\n",
              "    }\n",
              "    80% {\n",
              "      border-color: transparent;\n",
              "      border-right-color: var(--fill-color);\n",
              "      border-bottom-color: var(--fill-color);\n",
              "    }\n",
              "    90% {\n",
              "      border-color: transparent;\n",
              "      border-bottom-color: var(--fill-color);\n",
              "    }\n",
              "  }\n",
              "</style>\n",
              "\n",
              "      <script>\n",
              "        async function quickchart(key) {\n",
              "          const quickchartButtonEl =\n",
              "            document.querySelector('#' + key + ' button');\n",
              "          quickchartButtonEl.disabled = true;  // To prevent multiple clicks.\n",
              "          quickchartButtonEl.classList.add('colab-df-spinner');\n",
              "          try {\n",
              "            const charts = await google.colab.kernel.invokeFunction(\n",
              "                'suggestCharts', [key], {});\n",
              "          } catch (error) {\n",
              "            console.error('Error during call to suggestCharts:', error);\n",
              "          }\n",
              "          quickchartButtonEl.classList.remove('colab-df-spinner');\n",
              "          quickchartButtonEl.classList.add('colab-df-quickchart-complete');\n",
              "        }\n",
              "        (() => {\n",
              "          let quickchartButtonEl =\n",
              "            document.querySelector('#df-038f6573-3ac6-44cc-b27d-ea1fad9ce90b button');\n",
              "          quickchartButtonEl.style.display =\n",
              "            google.colab.kernel.accessAllowed ? 'block' : 'none';\n",
              "        })();\n",
              "      </script>\n",
              "    </div>\n",
              "\n",
              "  <div id=\"id_c438eb2c-b807-4e11-bb84-9b03f8420908\">\n",
              "    <style>\n",
              "      .colab-df-generate {\n",
              "        background-color: #E8F0FE;\n",
              "        border: none;\n",
              "        border-radius: 50%;\n",
              "        cursor: pointer;\n",
              "        display: none;\n",
              "        fill: #1967D2;\n",
              "        height: 32px;\n",
              "        padding: 0 0 0 0;\n",
              "        width: 32px;\n",
              "      }\n",
              "\n",
              "      .colab-df-generate:hover {\n",
              "        background-color: #E2EBFA;\n",
              "        box-shadow: 0px 1px 2px rgba(60, 64, 67, 0.3), 0px 1px 3px 1px rgba(60, 64, 67, 0.15);\n",
              "        fill: #174EA6;\n",
              "      }\n",
              "\n",
              "      [theme=dark] .colab-df-generate {\n",
              "        background-color: #3B4455;\n",
              "        fill: #D2E3FC;\n",
              "      }\n",
              "\n",
              "      [theme=dark] .colab-df-generate:hover {\n",
              "        background-color: #434B5C;\n",
              "        box-shadow: 0px 1px 3px 1px rgba(0, 0, 0, 0.15);\n",
              "        filter: drop-shadow(0px 1px 2px rgba(0, 0, 0, 0.3));\n",
              "        fill: #FFFFFF;\n",
              "      }\n",
              "    </style>\n",
              "    <button class=\"colab-df-generate\" onclick=\"generateWithVariable('df')\"\n",
              "            title=\"Generate code using this dataframe.\"\n",
              "            style=\"display:none;\">\n",
              "\n",
              "  <svg xmlns=\"http://www.w3.org/2000/svg\" height=\"24px\"viewBox=\"0 0 24 24\"\n",
              "       width=\"24px\">\n",
              "    <path d=\"M7,19H8.4L18.45,9,17,7.55,7,17.6ZM5,21V16.75L18.45,3.32a2,2,0,0,1,2.83,0l1.4,1.43a1.91,1.91,0,0,1,.58,1.4,1.91,1.91,0,0,1-.58,1.4L9.25,21ZM18.45,9,17,7.55Zm-12,3A5.31,5.31,0,0,0,4.9,8.1,5.31,5.31,0,0,0,1,6.5,5.31,5.31,0,0,0,4.9,4.9,5.31,5.31,0,0,0,6.5,1,5.31,5.31,0,0,0,8.1,4.9,5.31,5.31,0,0,0,12,6.5,5.46,5.46,0,0,0,6.5,12Z\"/>\n",
              "  </svg>\n",
              "    </button>\n",
              "    <script>\n",
              "      (() => {\n",
              "      const buttonEl =\n",
              "        document.querySelector('#id_c438eb2c-b807-4e11-bb84-9b03f8420908 button.colab-df-generate');\n",
              "      buttonEl.style.display =\n",
              "        google.colab.kernel.accessAllowed ? 'block' : 'none';\n",
              "\n",
              "      buttonEl.onclick = () => {\n",
              "        google.colab.notebook.generateWithVariable('df');\n",
              "      }\n",
              "      })();\n",
              "    </script>\n",
              "  </div>\n",
              "\n",
              "    </div>\n",
              "  </div>\n"
            ],
            "application/vnd.google.colaboratory.intrinsic+json": {
              "type": "dataframe",
              "variable_name": "df",
              "summary": "{\n  \"name\": \"df\",\n  \"rows\": 1302,\n  \"fields\": [\n    {\n      \"column\": \"id\",\n      \"properties\": {\n        \"dtype\": \"number\",\n        \"std\": 3949,\n        \"min\": 1,\n        \"max\": 10277,\n        \"num_unique_values\": 1302,\n        \"samples\": [\n          479,\n          725,\n          313\n        ],\n        \"semantic_type\": \"\",\n        \"description\": \"\"\n      }\n    },\n    {\n      \"column\": \"name\",\n      \"properties\": {\n        \"dtype\": \"string\",\n        \"num_unique_values\": 1302,\n        \"samples\": [\n          \"rotom\",\n          \"litten\",\n          \"volbeat\"\n        ],\n        \"semantic_type\": \"\",\n        \"description\": \"\"\n      }\n    },\n    {\n      \"column\": \"base_experience\",\n      \"properties\": {\n        \"dtype\": \"number\",\n        \"std\": 82,\n        \"min\": 36,\n        \"max\": 608,\n        \"num_unique_values\": 201,\n        \"samples\": [\n          151,\n          52,\n          196\n        ],\n        \"semantic_type\": \"\",\n        \"description\": \"\"\n      }\n    },\n    {\n      \"column\": \"height\",\n      \"properties\": {\n        \"dtype\": \"number\",\n        \"std\": 54,\n        \"min\": 1,\n        \"max\": 1000,\n        \"num_unique_values\": 85,\n        \"samples\": [\n          260,\n          7,\n          330\n        ],\n        \"semantic_type\": \"\",\n        \"description\": \"\"\n      }\n    },\n    {\n      \"column\": \"weight\",\n      \"properties\": {\n        \"dtype\": \"number\",\n        \"std\": 1972,\n        \"min\": 0,\n        \"max\": 10000,\n        \"num_unique_values\": 533,\n        \"samples\": [\n          90,\n          552,\n          526\n        ],\n        \"semantic_type\": \"\",\n        \"description\": \"\"\n      }\n    },\n    {\n      \"column\": \"types\",\n      \"properties\": {\n        \"dtype\": \"category\",\n        \"num_unique_values\": 221,\n        \"samples\": [\n          \"poison, dragon\",\n          \"poison, fire\",\n          \"dragon, ground\"\n        ],\n        \"semantic_type\": \"\",\n        \"description\": \"\"\n      }\n    },\n    {\n      \"column\": \"abilities\",\n      \"properties\": {\n        \"dtype\": \"string\",\n        \"num_unique_values\": 707,\n        \"samples\": [\n          \"iron-fist\",\n          \"flash-fire, guts\",\n          \"limber, imposter\"\n        ],\n        \"semantic_type\": \"\",\n        \"description\": \"\"\n      }\n    },\n    {\n      \"column\": \"moves\",\n      \"properties\": {\n        \"dtype\": \"string\",\n        \"num_unique_values\": 812,\n        \"samples\": [\n          \"swords-dance, cut, body-slam, poison-sting, pin-missile\",\n          \"psybeam, hyper-beam, mega-drain, psychic, night-shade\",\n          \"cut, headbutt, body-slam, take-down, thrash\"\n        ],\n        \"semantic_type\": \"\",\n        \"description\": \"\"\n      }\n    },\n    {\n      \"column\": \"stats\",\n      \"properties\": {\n        \"dtype\": \"string\",\n        \"num_unique_values\": 1142,\n        \"samples\": [\n          \"hp=85, attack=76, defense=64, special-attack=45, special-defense=55, speed=90\",\n          \"hp=50, attack=75, defense=90, special-attack=10, special-defense=35, speed=40\",\n          \"hp=144, attack=120, defense=60, special-attack=40, special-defense=60, speed=50\"\n        ],\n        \"semantic_type\": \"\",\n        \"description\": \"\"\n      }\n    }\n  ]\n}"
            }
          },
          "metadata": {},
          "execution_count": 11
        }
      ]
    },
    {
      "cell_type": "markdown",
      "metadata": {
        "id": "E4iIXpLP4DSB"
      },
      "source": [
        "## 4. Limpieza de Nombres de Columnas"
      ]
    },
    {
      "cell_type": "code",
      "execution_count": 6,
      "metadata": {
        "colab": {
          "base_uri": "https://localhost:8080/"
        },
        "id": "4cEzLrzE4DSB",
        "outputId": "0203174a-5c72-4eeb-edd7-a103c01fd58b"
      },
      "outputs": [
        {
          "output_type": "stream",
          "name": "stdout",
          "text": [
            "Nombres de columnas actualizados:\n",
            "['id', 'name', 'base_experience', 'height', 'weight', 'types', 'abilities', 'moves', 'stats']\n"
          ]
        }
      ],
      "source": [
        "# Estandarizar nombres de columnas\n",
        "df.columns = df.columns.str.lower().str.replace(\" \", \"_\")\n",
        "\n",
        "print(\"Nombres de columnas actualizados:\")\n",
        "print(df.columns.tolist())"
      ]
    },
    {
      "cell_type": "markdown",
      "metadata": {
        "id": "248Pz5614DSB"
      },
      "source": [
        "## 5. Análisis de Valores Nulos"
      ]
    },
    {
      "cell_type": "code",
      "source": [
        " #Identificar si exiten valores nulos\n",
        "print(\"Valores nulos antes de la limpieza:\")\n",
        "print(df.isnull().sum())"
      ],
      "metadata": {
        "colab": {
          "base_uri": "https://localhost:8080/"
        },
        "id": "T1sPW04Y4961",
        "outputId": "e54cf795-e886-4d7b-eff6-4034a5d96b25"
      },
      "execution_count": 7,
      "outputs": [
        {
          "output_type": "stream",
          "name": "stdout",
          "text": [
            "Valores nulos antes de la limpieza:\n",
            "id                  0\n",
            "name                0\n",
            "base_experience     0\n",
            "height              0\n",
            "weight              0\n",
            "types               0\n",
            "abilities           0\n",
            "moves              34\n",
            "stats               0\n",
            "dtype: int64\n"
          ]
        }
      ]
    },
    {
      "cell_type": "markdown",
      "metadata": {
        "id": "xUz6KPEg4DSC"
      },
      "source": [
        "## 6. Análisis de Duplicados"
      ]
    },
    {
      "cell_type": "code",
      "source": [
        "# Revisar duplicados.\n",
        "df.duplicated().sum()"
      ],
      "metadata": {
        "colab": {
          "base_uri": "https://localhost:8080/"
        },
        "id": "_wTdYeU-42ml",
        "outputId": "e6b57270-36cf-4aa5-8dc8-a816de1c3046"
      },
      "execution_count": null,
      "outputs": [
        {
          "output_type": "execute_result",
          "data": {
            "text/plain": [
              "np.int64(0)"
            ]
          },
          "metadata": {},
          "execution_count": 8
        }
      ]
    },
    {
      "cell_type": "markdown",
      "metadata": {
        "id": "ocv9xfOl4DSC"
      },
      "source": [
        "## 7. Análisis de Espacios Vacíos y Valores Inconsistentes"
      ]
    },
    {
      "cell_type": "code",
      "execution_count": null,
      "metadata": {
        "colab": {
          "base_uri": "https://localhost:8080/"
        },
        "id": "nuBz2UEk4DSC",
        "outputId": "892d847c-4138-4933-f53c-028a543bcb6d"
      },
      "outputs": [
        {
          "output_type": "stream",
          "name": "stdout",
          "text": [
            "Análisis de espacios vacíos en columnas de texto:\n",
            "name: 1302 valores únicos\n",
            "types: 221 valores únicos\n",
            "abilities: 707 valores únicos\n",
            "moves: 812 valores únicos\n",
            "stats: 1142 valores únicos\n"
          ]
        }
      ],
      "source": [
        "# Verificar espacios vacíos en columnas de texto\n",
        "columnas_texto = df.select_dtypes(include=['object']).columns\n",
        "\n",
        "print(\"Análisis de espacios vacíos en columnas de texto:\")\n",
        "for col in columnas_texto:\n",
        "    # Contar espacios vacíos\n",
        "    espacios_vacios = df[col].astype(str).str.strip().eq('').sum()\n",
        "    if espacios_vacios > 0:\n",
        "        print(f\"\\n{col}: {espacios_vacios} espacios vacíos\")\n",
        "\n",
        "    # Verificar valores únicos (primeros 10)\n",
        "    valores_unicos = df[col].nunique()\n",
        "    print(f\"{col}: {valores_unicos} valores únicos\")\n",
        "    if valores_unicos < 20:\n",
        "        print(f\"Valores: {df[col].value_counts().head(10).to_dict()}\")"
      ]
    },
    {
      "cell_type": "markdown",
      "metadata": {
        "id": "yvtgTE8U4DSC"
      },
      "source": [
        "## 8. Estadísticas Descriptivas"
      ]
    },
    {
      "cell_type": "code",
      "execution_count": null,
      "metadata": {
        "colab": {
          "base_uri": "https://localhost:8080/",
          "height": 193
        },
        "id": "lOhONzWs4DSC",
        "outputId": "337b874c-5c63-468e-b92c-809a5a7824f9"
      },
      "outputs": [
        {
          "output_type": "stream",
          "name": "stdout",
          "text": [
            "Estadísticas descriptivas de variables numéricas:\n"
          ]
        },
        {
          "output_type": "execute_result",
          "data": {
            "text/plain": [
              "                  count         mean          std   min     25%    50%  \\\n",
              "id               1302.0  2560.927803  3949.887748   1.0  326.25  651.5   \n",
              "base_experience  1302.0   161.943932    82.532554  36.0   71.00  165.0   \n",
              "height           1302.0    20.467742    54.180316   1.0    5.00   10.0   \n",
              "weight           1302.0   980.863287  1972.645170   0.0   89.25  315.5   \n",
              "\n",
              "                    75%      max  \n",
              "id               976.75  10277.0  \n",
              "base_experience  222.50    608.0  \n",
              "height            16.00   1000.0  \n",
              "weight           818.00  10000.0  "
            ],
            "text/html": [
              "\n",
              "  <div id=\"df-8810a2ee-a039-4941-b493-5bad89817cbe\" class=\"colab-df-container\">\n",
              "    <div>\n",
              "<style scoped>\n",
              "    .dataframe tbody tr th:only-of-type {\n",
              "        vertical-align: middle;\n",
              "    }\n",
              "\n",
              "    .dataframe tbody tr th {\n",
              "        vertical-align: top;\n",
              "    }\n",
              "\n",
              "    .dataframe thead th {\n",
              "        text-align: right;\n",
              "    }\n",
              "</style>\n",
              "<table border=\"1\" class=\"dataframe\">\n",
              "  <thead>\n",
              "    <tr style=\"text-align: right;\">\n",
              "      <th></th>\n",
              "      <th>count</th>\n",
              "      <th>mean</th>\n",
              "      <th>std</th>\n",
              "      <th>min</th>\n",
              "      <th>25%</th>\n",
              "      <th>50%</th>\n",
              "      <th>75%</th>\n",
              "      <th>max</th>\n",
              "    </tr>\n",
              "  </thead>\n",
              "  <tbody>\n",
              "    <tr>\n",
              "      <th>id</th>\n",
              "      <td>1302.0</td>\n",
              "      <td>2560.927803</td>\n",
              "      <td>3949.887748</td>\n",
              "      <td>1.0</td>\n",
              "      <td>326.25</td>\n",
              "      <td>651.5</td>\n",
              "      <td>976.75</td>\n",
              "      <td>10277.0</td>\n",
              "    </tr>\n",
              "    <tr>\n",
              "      <th>base_experience</th>\n",
              "      <td>1302.0</td>\n",
              "      <td>161.943932</td>\n",
              "      <td>82.532554</td>\n",
              "      <td>36.0</td>\n",
              "      <td>71.00</td>\n",
              "      <td>165.0</td>\n",
              "      <td>222.50</td>\n",
              "      <td>608.0</td>\n",
              "    </tr>\n",
              "    <tr>\n",
              "      <th>height</th>\n",
              "      <td>1302.0</td>\n",
              "      <td>20.467742</td>\n",
              "      <td>54.180316</td>\n",
              "      <td>1.0</td>\n",
              "      <td>5.00</td>\n",
              "      <td>10.0</td>\n",
              "      <td>16.00</td>\n",
              "      <td>1000.0</td>\n",
              "    </tr>\n",
              "    <tr>\n",
              "      <th>weight</th>\n",
              "      <td>1302.0</td>\n",
              "      <td>980.863287</td>\n",
              "      <td>1972.645170</td>\n",
              "      <td>0.0</td>\n",
              "      <td>89.25</td>\n",
              "      <td>315.5</td>\n",
              "      <td>818.00</td>\n",
              "      <td>10000.0</td>\n",
              "    </tr>\n",
              "  </tbody>\n",
              "</table>\n",
              "</div>\n",
              "    <div class=\"colab-df-buttons\">\n",
              "\n",
              "  <div class=\"colab-df-container\">\n",
              "    <button class=\"colab-df-convert\" onclick=\"convertToInteractive('df-8810a2ee-a039-4941-b493-5bad89817cbe')\"\n",
              "            title=\"Convert this dataframe to an interactive table.\"\n",
              "            style=\"display:none;\">\n",
              "\n",
              "  <svg xmlns=\"http://www.w3.org/2000/svg\" height=\"24px\" viewBox=\"0 -960 960 960\">\n",
              "    <path d=\"M120-120v-720h720v720H120Zm60-500h600v-160H180v160Zm220 220h160v-160H400v160Zm0 220h160v-160H400v160ZM180-400h160v-160H180v160Zm440 0h160v-160H620v160ZM180-180h160v-160H180v160Zm440 0h160v-160H620v160Z\"/>\n",
              "  </svg>\n",
              "    </button>\n",
              "\n",
              "  <style>\n",
              "    .colab-df-container {\n",
              "      display:flex;\n",
              "      gap: 12px;\n",
              "    }\n",
              "\n",
              "    .colab-df-convert {\n",
              "      background-color: #E8F0FE;\n",
              "      border: none;\n",
              "      border-radius: 50%;\n",
              "      cursor: pointer;\n",
              "      display: none;\n",
              "      fill: #1967D2;\n",
              "      height: 32px;\n",
              "      padding: 0 0 0 0;\n",
              "      width: 32px;\n",
              "    }\n",
              "\n",
              "    .colab-df-convert:hover {\n",
              "      background-color: #E2EBFA;\n",
              "      box-shadow: 0px 1px 2px rgba(60, 64, 67, 0.3), 0px 1px 3px 1px rgba(60, 64, 67, 0.15);\n",
              "      fill: #174EA6;\n",
              "    }\n",
              "\n",
              "    .colab-df-buttons div {\n",
              "      margin-bottom: 4px;\n",
              "    }\n",
              "\n",
              "    [theme=dark] .colab-df-convert {\n",
              "      background-color: #3B4455;\n",
              "      fill: #D2E3FC;\n",
              "    }\n",
              "\n",
              "    [theme=dark] .colab-df-convert:hover {\n",
              "      background-color: #434B5C;\n",
              "      box-shadow: 0px 1px 3px 1px rgba(0, 0, 0, 0.15);\n",
              "      filter: drop-shadow(0px 1px 2px rgba(0, 0, 0, 0.3));\n",
              "      fill: #FFFFFF;\n",
              "    }\n",
              "  </style>\n",
              "\n",
              "    <script>\n",
              "      const buttonEl =\n",
              "        document.querySelector('#df-8810a2ee-a039-4941-b493-5bad89817cbe button.colab-df-convert');\n",
              "      buttonEl.style.display =\n",
              "        google.colab.kernel.accessAllowed ? 'block' : 'none';\n",
              "\n",
              "      async function convertToInteractive(key) {\n",
              "        const element = document.querySelector('#df-8810a2ee-a039-4941-b493-5bad89817cbe');\n",
              "        const dataTable =\n",
              "          await google.colab.kernel.invokeFunction('convertToInteractive',\n",
              "                                                    [key], {});\n",
              "        if (!dataTable) return;\n",
              "\n",
              "        const docLinkHtml = 'Like what you see? Visit the ' +\n",
              "          '<a target=\"_blank\" href=https://colab.research.google.com/notebooks/data_table.ipynb>data table notebook</a>'\n",
              "          + ' to learn more about interactive tables.';\n",
              "        element.innerHTML = '';\n",
              "        dataTable['output_type'] = 'display_data';\n",
              "        await google.colab.output.renderOutput(dataTable, element);\n",
              "        const docLink = document.createElement('div');\n",
              "        docLink.innerHTML = docLinkHtml;\n",
              "        element.appendChild(docLink);\n",
              "      }\n",
              "    </script>\n",
              "  </div>\n",
              "\n",
              "\n",
              "    <div id=\"df-30f41ef1-7607-4e60-a802-a729a3dcfc14\">\n",
              "      <button class=\"colab-df-quickchart\" onclick=\"quickchart('df-30f41ef1-7607-4e60-a802-a729a3dcfc14')\"\n",
              "                title=\"Suggest charts\"\n",
              "                style=\"display:none;\">\n",
              "\n",
              "<svg xmlns=\"http://www.w3.org/2000/svg\" height=\"24px\"viewBox=\"0 0 24 24\"\n",
              "     width=\"24px\">\n",
              "    <g>\n",
              "        <path d=\"M19 3H5c-1.1 0-2 .9-2 2v14c0 1.1.9 2 2 2h14c1.1 0 2-.9 2-2V5c0-1.1-.9-2-2-2zM9 17H7v-7h2v7zm4 0h-2V7h2v10zm4 0h-2v-4h2v4z\"/>\n",
              "    </g>\n",
              "</svg>\n",
              "      </button>\n",
              "\n",
              "<style>\n",
              "  .colab-df-quickchart {\n",
              "      --bg-color: #E8F0FE;\n",
              "      --fill-color: #1967D2;\n",
              "      --hover-bg-color: #E2EBFA;\n",
              "      --hover-fill-color: #174EA6;\n",
              "      --disabled-fill-color: #AAA;\n",
              "      --disabled-bg-color: #DDD;\n",
              "  }\n",
              "\n",
              "  [theme=dark] .colab-df-quickchart {\n",
              "      --bg-color: #3B4455;\n",
              "      --fill-color: #D2E3FC;\n",
              "      --hover-bg-color: #434B5C;\n",
              "      --hover-fill-color: #FFFFFF;\n",
              "      --disabled-bg-color: #3B4455;\n",
              "      --disabled-fill-color: #666;\n",
              "  }\n",
              "\n",
              "  .colab-df-quickchart {\n",
              "    background-color: var(--bg-color);\n",
              "    border: none;\n",
              "    border-radius: 50%;\n",
              "    cursor: pointer;\n",
              "    display: none;\n",
              "    fill: var(--fill-color);\n",
              "    height: 32px;\n",
              "    padding: 0;\n",
              "    width: 32px;\n",
              "  }\n",
              "\n",
              "  .colab-df-quickchart:hover {\n",
              "    background-color: var(--hover-bg-color);\n",
              "    box-shadow: 0 1px 2px rgba(60, 64, 67, 0.3), 0 1px 3px 1px rgba(60, 64, 67, 0.15);\n",
              "    fill: var(--button-hover-fill-color);\n",
              "  }\n",
              "\n",
              "  .colab-df-quickchart-complete:disabled,\n",
              "  .colab-df-quickchart-complete:disabled:hover {\n",
              "    background-color: var(--disabled-bg-color);\n",
              "    fill: var(--disabled-fill-color);\n",
              "    box-shadow: none;\n",
              "  }\n",
              "\n",
              "  .colab-df-spinner {\n",
              "    border: 2px solid var(--fill-color);\n",
              "    border-color: transparent;\n",
              "    border-bottom-color: var(--fill-color);\n",
              "    animation:\n",
              "      spin 1s steps(1) infinite;\n",
              "  }\n",
              "\n",
              "  @keyframes spin {\n",
              "    0% {\n",
              "      border-color: transparent;\n",
              "      border-bottom-color: var(--fill-color);\n",
              "      border-left-color: var(--fill-color);\n",
              "    }\n",
              "    20% {\n",
              "      border-color: transparent;\n",
              "      border-left-color: var(--fill-color);\n",
              "      border-top-color: var(--fill-color);\n",
              "    }\n",
              "    30% {\n",
              "      border-color: transparent;\n",
              "      border-left-color: var(--fill-color);\n",
              "      border-top-color: var(--fill-color);\n",
              "      border-right-color: var(--fill-color);\n",
              "    }\n",
              "    40% {\n",
              "      border-color: transparent;\n",
              "      border-right-color: var(--fill-color);\n",
              "      border-top-color: var(--fill-color);\n",
              "    }\n",
              "    60% {\n",
              "      border-color: transparent;\n",
              "      border-right-color: var(--fill-color);\n",
              "    }\n",
              "    80% {\n",
              "      border-color: transparent;\n",
              "      border-right-color: var(--fill-color);\n",
              "      border-bottom-color: var(--fill-color);\n",
              "    }\n",
              "    90% {\n",
              "      border-color: transparent;\n",
              "      border-bottom-color: var(--fill-color);\n",
              "    }\n",
              "  }\n",
              "</style>\n",
              "\n",
              "      <script>\n",
              "        async function quickchart(key) {\n",
              "          const quickchartButtonEl =\n",
              "            document.querySelector('#' + key + ' button');\n",
              "          quickchartButtonEl.disabled = true;  // To prevent multiple clicks.\n",
              "          quickchartButtonEl.classList.add('colab-df-spinner');\n",
              "          try {\n",
              "            const charts = await google.colab.kernel.invokeFunction(\n",
              "                'suggestCharts', [key], {});\n",
              "          } catch (error) {\n",
              "            console.error('Error during call to suggestCharts:', error);\n",
              "          }\n",
              "          quickchartButtonEl.classList.remove('colab-df-spinner');\n",
              "          quickchartButtonEl.classList.add('colab-df-quickchart-complete');\n",
              "        }\n",
              "        (() => {\n",
              "          let quickchartButtonEl =\n",
              "            document.querySelector('#df-30f41ef1-7607-4e60-a802-a729a3dcfc14 button');\n",
              "          quickchartButtonEl.style.display =\n",
              "            google.colab.kernel.accessAllowed ? 'block' : 'none';\n",
              "        })();\n",
              "      </script>\n",
              "    </div>\n",
              "\n",
              "    </div>\n",
              "  </div>\n"
            ],
            "application/vnd.google.colaboratory.intrinsic+json": {
              "type": "dataframe",
              "summary": "{\n  \"name\": \"df\",\n  \"rows\": 4,\n  \"fields\": [\n    {\n      \"column\": \"count\",\n      \"properties\": {\n        \"dtype\": \"number\",\n        \"std\": 0.0,\n        \"min\": 1302.0,\n        \"max\": 1302.0,\n        \"num_unique_values\": 1,\n        \"samples\": [\n          1302.0\n        ],\n        \"semantic_type\": \"\",\n        \"description\": \"\"\n      }\n    },\n    {\n      \"column\": \"mean\",\n      \"properties\": {\n        \"dtype\": \"number\",\n        \"std\": 1166.1428170735549,\n        \"min\": 20.467741935483872,\n        \"max\": 2560.927803379416,\n        \"num_unique_values\": 4,\n        \"samples\": [\n          161.94393241167435\n        ],\n        \"semantic_type\": \"\",\n        \"description\": \"\"\n      }\n    },\n    {\n      \"column\": \"std\",\n      \"properties\": {\n        \"dtype\": \"number\",\n        \"std\": 1855.0897943441216,\n        \"min\": 54.180316029094186,\n        \"max\": 3949.88774777145,\n        \"num_unique_values\": 4,\n        \"samples\": [\n          82.53255434414244\n        ],\n        \"semantic_type\": \"\",\n        \"description\": \"\"\n      }\n    },\n    {\n      \"column\": \"min\",\n      \"properties\": {\n        \"dtype\": \"number\",\n        \"std\": 17.67295485574875,\n        \"min\": 0.0,\n        \"max\": 36.0,\n        \"num_unique_values\": 3,\n        \"samples\": [\n          1.0\n        ],\n        \"semantic_type\": \"\",\n        \"description\": \"\"\n      }\n    },\n    {\n      \"column\": \"25%\",\n      \"properties\": {\n        \"dtype\": \"number\",\n        \"std\": 140.33004251881823,\n        \"min\": 5.0,\n        \"max\": 326.25,\n        \"num_unique_values\": 4,\n        \"samples\": [\n          71.0\n        ],\n        \"semantic_type\": \"\",\n        \"description\": \"\"\n      }\n    },\n    {\n      \"column\": \"50%\",\n      \"properties\": {\n        \"dtype\": \"number\",\n        \"std\": 274.02949962853756,\n        \"min\": 10.0,\n        \"max\": 651.5,\n        \"num_unique_values\": 4,\n        \"samples\": [\n          165.0\n        ],\n        \"semantic_type\": \"\",\n        \"description\": \"\"\n      }\n    },\n    {\n      \"column\": \"75%\",\n      \"properties\": {\n        \"dtype\": \"number\",\n        \"std\": 461.66381053568983,\n        \"min\": 16.0,\n        \"max\": 976.75,\n        \"num_unique_values\": 4,\n        \"samples\": [\n          222.5\n        ],\n        \"semantic_type\": \"\",\n        \"description\": \"\"\n      }\n    },\n    {\n      \"column\": \"max\",\n      \"properties\": {\n        \"dtype\": \"number\",\n        \"std\": 5392.83743342346,\n        \"min\": 608.0,\n        \"max\": 10277.0,\n        \"num_unique_values\": 4,\n        \"samples\": [\n          608.0\n        ],\n        \"semantic_type\": \"\",\n        \"description\": \"\"\n      }\n    }\n  ]\n}"
            }
          },
          "metadata": {},
          "execution_count": 10
        }
      ],
      "source": [
        "# Estadísticas para variables numéricas\n",
        "print(\"Estadísticas descriptivas de variables numéricas:\")\n",
        "df.describe().T"
      ]
    },
    {
      "cell_type": "code",
      "execution_count": null,
      "metadata": {
        "colab": {
          "base_uri": "https://localhost:8080/",
          "height": 224
        },
        "id": "CdwMZl154DSD",
        "outputId": "31594dec-69b8-483c-e80b-f386340ba81b"
      },
      "outputs": [
        {
          "output_type": "stream",
          "name": "stdout",
          "text": [
            "Estadísticas descriptivas de variables categóricas:\n"
          ]
        },
        {
          "output_type": "execute_result",
          "data": {
            "text/plain": [
              "          count unique                                                top freq\n",
              "name       1302   1302                                  terapagos-stellar    1\n",
              "types      1302    221                                             normal   86\n",
              "abilities  1302    707                                           levitate   36\n",
              "moves      1268    812  headbutt, tackle, body-slam, take-down, double...   21\n",
              "stats      1302   1142  hp=35, attack=55, defense=40, special-attack=5...   16"
            ],
            "text/html": [
              "\n",
              "  <div id=\"df-680f3bc8-f513-493d-9b92-409be7cd880c\" class=\"colab-df-container\">\n",
              "    <div>\n",
              "<style scoped>\n",
              "    .dataframe tbody tr th:only-of-type {\n",
              "        vertical-align: middle;\n",
              "    }\n",
              "\n",
              "    .dataframe tbody tr th {\n",
              "        vertical-align: top;\n",
              "    }\n",
              "\n",
              "    .dataframe thead th {\n",
              "        text-align: right;\n",
              "    }\n",
              "</style>\n",
              "<table border=\"1\" class=\"dataframe\">\n",
              "  <thead>\n",
              "    <tr style=\"text-align: right;\">\n",
              "      <th></th>\n",
              "      <th>count</th>\n",
              "      <th>unique</th>\n",
              "      <th>top</th>\n",
              "      <th>freq</th>\n",
              "    </tr>\n",
              "  </thead>\n",
              "  <tbody>\n",
              "    <tr>\n",
              "      <th>name</th>\n",
              "      <td>1302</td>\n",
              "      <td>1302</td>\n",
              "      <td>terapagos-stellar</td>\n",
              "      <td>1</td>\n",
              "    </tr>\n",
              "    <tr>\n",
              "      <th>types</th>\n",
              "      <td>1302</td>\n",
              "      <td>221</td>\n",
              "      <td>normal</td>\n",
              "      <td>86</td>\n",
              "    </tr>\n",
              "    <tr>\n",
              "      <th>abilities</th>\n",
              "      <td>1302</td>\n",
              "      <td>707</td>\n",
              "      <td>levitate</td>\n",
              "      <td>36</td>\n",
              "    </tr>\n",
              "    <tr>\n",
              "      <th>moves</th>\n",
              "      <td>1268</td>\n",
              "      <td>812</td>\n",
              "      <td>headbutt, tackle, body-slam, take-down, double...</td>\n",
              "      <td>21</td>\n",
              "    </tr>\n",
              "    <tr>\n",
              "      <th>stats</th>\n",
              "      <td>1302</td>\n",
              "      <td>1142</td>\n",
              "      <td>hp=35, attack=55, defense=40, special-attack=5...</td>\n",
              "      <td>16</td>\n",
              "    </tr>\n",
              "  </tbody>\n",
              "</table>\n",
              "</div>\n",
              "    <div class=\"colab-df-buttons\">\n",
              "\n",
              "  <div class=\"colab-df-container\">\n",
              "    <button class=\"colab-df-convert\" onclick=\"convertToInteractive('df-680f3bc8-f513-493d-9b92-409be7cd880c')\"\n",
              "            title=\"Convert this dataframe to an interactive table.\"\n",
              "            style=\"display:none;\">\n",
              "\n",
              "  <svg xmlns=\"http://www.w3.org/2000/svg\" height=\"24px\" viewBox=\"0 -960 960 960\">\n",
              "    <path d=\"M120-120v-720h720v720H120Zm60-500h600v-160H180v160Zm220 220h160v-160H400v160Zm0 220h160v-160H400v160ZM180-400h160v-160H180v160Zm440 0h160v-160H620v160ZM180-180h160v-160H180v160Zm440 0h160v-160H620v160Z\"/>\n",
              "  </svg>\n",
              "    </button>\n",
              "\n",
              "  <style>\n",
              "    .colab-df-container {\n",
              "      display:flex;\n",
              "      gap: 12px;\n",
              "    }\n",
              "\n",
              "    .colab-df-convert {\n",
              "      background-color: #E8F0FE;\n",
              "      border: none;\n",
              "      border-radius: 50%;\n",
              "      cursor: pointer;\n",
              "      display: none;\n",
              "      fill: #1967D2;\n",
              "      height: 32px;\n",
              "      padding: 0 0 0 0;\n",
              "      width: 32px;\n",
              "    }\n",
              "\n",
              "    .colab-df-convert:hover {\n",
              "      background-color: #E2EBFA;\n",
              "      box-shadow: 0px 1px 2px rgba(60, 64, 67, 0.3), 0px 1px 3px 1px rgba(60, 64, 67, 0.15);\n",
              "      fill: #174EA6;\n",
              "    }\n",
              "\n",
              "    .colab-df-buttons div {\n",
              "      margin-bottom: 4px;\n",
              "    }\n",
              "\n",
              "    [theme=dark] .colab-df-convert {\n",
              "      background-color: #3B4455;\n",
              "      fill: #D2E3FC;\n",
              "    }\n",
              "\n",
              "    [theme=dark] .colab-df-convert:hover {\n",
              "      background-color: #434B5C;\n",
              "      box-shadow: 0px 1px 3px 1px rgba(0, 0, 0, 0.15);\n",
              "      filter: drop-shadow(0px 1px 2px rgba(0, 0, 0, 0.3));\n",
              "      fill: #FFFFFF;\n",
              "    }\n",
              "  </style>\n",
              "\n",
              "    <script>\n",
              "      const buttonEl =\n",
              "        document.querySelector('#df-680f3bc8-f513-493d-9b92-409be7cd880c button.colab-df-convert');\n",
              "      buttonEl.style.display =\n",
              "        google.colab.kernel.accessAllowed ? 'block' : 'none';\n",
              "\n",
              "      async function convertToInteractive(key) {\n",
              "        const element = document.querySelector('#df-680f3bc8-f513-493d-9b92-409be7cd880c');\n",
              "        const dataTable =\n",
              "          await google.colab.kernel.invokeFunction('convertToInteractive',\n",
              "                                                    [key], {});\n",
              "        if (!dataTable) return;\n",
              "\n",
              "        const docLinkHtml = 'Like what you see? Visit the ' +\n",
              "          '<a target=\"_blank\" href=https://colab.research.google.com/notebooks/data_table.ipynb>data table notebook</a>'\n",
              "          + ' to learn more about interactive tables.';\n",
              "        element.innerHTML = '';\n",
              "        dataTable['output_type'] = 'display_data';\n",
              "        await google.colab.output.renderOutput(dataTable, element);\n",
              "        const docLink = document.createElement('div');\n",
              "        docLink.innerHTML = docLinkHtml;\n",
              "        element.appendChild(docLink);\n",
              "      }\n",
              "    </script>\n",
              "  </div>\n",
              "\n",
              "\n",
              "    <div id=\"df-576a1273-d644-4063-87a8-499909fdebd7\">\n",
              "      <button class=\"colab-df-quickchart\" onclick=\"quickchart('df-576a1273-d644-4063-87a8-499909fdebd7')\"\n",
              "                title=\"Suggest charts\"\n",
              "                style=\"display:none;\">\n",
              "\n",
              "<svg xmlns=\"http://www.w3.org/2000/svg\" height=\"24px\"viewBox=\"0 0 24 24\"\n",
              "     width=\"24px\">\n",
              "    <g>\n",
              "        <path d=\"M19 3H5c-1.1 0-2 .9-2 2v14c0 1.1.9 2 2 2h14c1.1 0 2-.9 2-2V5c0-1.1-.9-2-2-2zM9 17H7v-7h2v7zm4 0h-2V7h2v10zm4 0h-2v-4h2v4z\"/>\n",
              "    </g>\n",
              "</svg>\n",
              "      </button>\n",
              "\n",
              "<style>\n",
              "  .colab-df-quickchart {\n",
              "      --bg-color: #E8F0FE;\n",
              "      --fill-color: #1967D2;\n",
              "      --hover-bg-color: #E2EBFA;\n",
              "      --hover-fill-color: #174EA6;\n",
              "      --disabled-fill-color: #AAA;\n",
              "      --disabled-bg-color: #DDD;\n",
              "  }\n",
              "\n",
              "  [theme=dark] .colab-df-quickchart {\n",
              "      --bg-color: #3B4455;\n",
              "      --fill-color: #D2E3FC;\n",
              "      --hover-bg-color: #434B5C;\n",
              "      --hover-fill-color: #FFFFFF;\n",
              "      --disabled-bg-color: #3B4455;\n",
              "      --disabled-fill-color: #666;\n",
              "  }\n",
              "\n",
              "  .colab-df-quickchart {\n",
              "    background-color: var(--bg-color);\n",
              "    border: none;\n",
              "    border-radius: 50%;\n",
              "    cursor: pointer;\n",
              "    display: none;\n",
              "    fill: var(--fill-color);\n",
              "    height: 32px;\n",
              "    padding: 0;\n",
              "    width: 32px;\n",
              "  }\n",
              "\n",
              "  .colab-df-quickchart:hover {\n",
              "    background-color: var(--hover-bg-color);\n",
              "    box-shadow: 0 1px 2px rgba(60, 64, 67, 0.3), 0 1px 3px 1px rgba(60, 64, 67, 0.15);\n",
              "    fill: var(--button-hover-fill-color);\n",
              "  }\n",
              "\n",
              "  .colab-df-quickchart-complete:disabled,\n",
              "  .colab-df-quickchart-complete:disabled:hover {\n",
              "    background-color: var(--disabled-bg-color);\n",
              "    fill: var(--disabled-fill-color);\n",
              "    box-shadow: none;\n",
              "  }\n",
              "\n",
              "  .colab-df-spinner {\n",
              "    border: 2px solid var(--fill-color);\n",
              "    border-color: transparent;\n",
              "    border-bottom-color: var(--fill-color);\n",
              "    animation:\n",
              "      spin 1s steps(1) infinite;\n",
              "  }\n",
              "\n",
              "  @keyframes spin {\n",
              "    0% {\n",
              "      border-color: transparent;\n",
              "      border-bottom-color: var(--fill-color);\n",
              "      border-left-color: var(--fill-color);\n",
              "    }\n",
              "    20% {\n",
              "      border-color: transparent;\n",
              "      border-left-color: var(--fill-color);\n",
              "      border-top-color: var(--fill-color);\n",
              "    }\n",
              "    30% {\n",
              "      border-color: transparent;\n",
              "      border-left-color: var(--fill-color);\n",
              "      border-top-color: var(--fill-color);\n",
              "      border-right-color: var(--fill-color);\n",
              "    }\n",
              "    40% {\n",
              "      border-color: transparent;\n",
              "      border-right-color: var(--fill-color);\n",
              "      border-top-color: var(--fill-color);\n",
              "    }\n",
              "    60% {\n",
              "      border-color: transparent;\n",
              "      border-right-color: var(--fill-color);\n",
              "    }\n",
              "    80% {\n",
              "      border-color: transparent;\n",
              "      border-right-color: var(--fill-color);\n",
              "      border-bottom-color: var(--fill-color);\n",
              "    }\n",
              "    90% {\n",
              "      border-color: transparent;\n",
              "      border-bottom-color: var(--fill-color);\n",
              "    }\n",
              "  }\n",
              "</style>\n",
              "\n",
              "      <script>\n",
              "        async function quickchart(key) {\n",
              "          const quickchartButtonEl =\n",
              "            document.querySelector('#' + key + ' button');\n",
              "          quickchartButtonEl.disabled = true;  // To prevent multiple clicks.\n",
              "          quickchartButtonEl.classList.add('colab-df-spinner');\n",
              "          try {\n",
              "            const charts = await google.colab.kernel.invokeFunction(\n",
              "                'suggestCharts', [key], {});\n",
              "          } catch (error) {\n",
              "            console.error('Error during call to suggestCharts:', error);\n",
              "          }\n",
              "          quickchartButtonEl.classList.remove('colab-df-spinner');\n",
              "          quickchartButtonEl.classList.add('colab-df-quickchart-complete');\n",
              "        }\n",
              "        (() => {\n",
              "          let quickchartButtonEl =\n",
              "            document.querySelector('#df-576a1273-d644-4063-87a8-499909fdebd7 button');\n",
              "          quickchartButtonEl.style.display =\n",
              "            google.colab.kernel.accessAllowed ? 'block' : 'none';\n",
              "        })();\n",
              "      </script>\n",
              "    </div>\n",
              "\n",
              "    </div>\n",
              "  </div>\n"
            ],
            "application/vnd.google.colaboratory.intrinsic+json": {
              "type": "dataframe",
              "summary": "{\n  \"name\": \"df\",\n  \"rows\": 5,\n  \"fields\": [\n    {\n      \"column\": \"count\",\n      \"properties\": {\n        \"dtype\": \"date\",\n        \"min\": \"1268\",\n        \"max\": \"1302\",\n        \"num_unique_values\": 2,\n        \"samples\": [\n          \"1268\",\n          \"1302\"\n        ],\n        \"semantic_type\": \"\",\n        \"description\": \"\"\n      }\n    },\n    {\n      \"column\": \"unique\",\n      \"properties\": {\n        \"dtype\": \"date\",\n        \"min\": 221,\n        \"max\": 1302,\n        \"num_unique_values\": 5,\n        \"samples\": [\n          221,\n          1142\n        ],\n        \"semantic_type\": \"\",\n        \"description\": \"\"\n      }\n    },\n    {\n      \"column\": \"top\",\n      \"properties\": {\n        \"dtype\": \"string\",\n        \"num_unique_values\": 5,\n        \"samples\": [\n          \"normal\",\n          \"hp=35, attack=55, defense=40, special-attack=50, special-defense=50, speed=90\"\n        ],\n        \"semantic_type\": \"\",\n        \"description\": \"\"\n      }\n    },\n    {\n      \"column\": \"freq\",\n      \"properties\": {\n        \"dtype\": \"date\",\n        \"min\": \"1\",\n        \"max\": \"86\",\n        \"num_unique_values\": 5,\n        \"samples\": [\n          \"86\",\n          \"16\"\n        ],\n        \"semantic_type\": \"\",\n        \"description\": \"\"\n      }\n    }\n  ]\n}"
            }
          },
          "metadata": {},
          "execution_count": 11
        }
      ],
      "source": [
        "# Estadísticas para variables categóricas\n",
        "print(\"Estadísticas descriptivas de variables categóricas:\")\n",
        "df.describe(include=['object']).T"
      ]
    },
    {
      "cell_type": "markdown",
      "metadata": {
        "id": "aS_iI_hf4DSD"
      },
      "source": [
        "## 9. Análisis de Tipos de Pokémon"
      ]
    },
    {
      "cell_type": "code",
      "execution_count": null,
      "metadata": {
        "colab": {
          "base_uri": "https://localhost:8080/"
        },
        "id": "NpL0YOiB4DSD",
        "outputId": "b01b651f-2215-488c-c9c0-aa1d01ffdc5c"
      },
      "outputs": [
        {
          "output_type": "stream",
          "name": "stdout",
          "text": [
            "Columnas de tipo encontradas: ['types']\n"
          ]
        }
      ],
      "source": [
        "# Buscar columnas relacionadas con tipos\n",
        "columnas_tipo = [col for col in df.columns if 'type' in col.lower()]\n",
        "\n",
        "if columnas_tipo:\n",
        "    print(f\"Columnas de tipo encontradas: {columnas_tipo}\")\n",
        "\n",
        "    # Análisis del tipo principal\n",
        "    if 'type_1' in df.columns:\n",
        "        print(\"\\nDistribución de tipos principales:\")\n",
        "        print(df['type_1'].value_counts())\n",
        "\n",
        "    # Análisis del tipo secundario\n",
        "    if 'type_2' in df.columns:\n",
        "        tipos_secundarios = df['type_2'].value_counts()\n",
        "        print(f\"\\nPokémon con tipo secundario: {df['type_2'].notna().sum()} ({(df['type_2'].notna().sum()/len(df)*100):.1f}%)\")\n",
        "        print(f\"Pokémon sin tipo secundario: {df['type_2'].isna().sum()} ({(df['type_2'].isna().sum()/len(df)*100):.1f}%)\")"
      ]
    },
    {
      "cell_type": "markdown",
      "metadata": {
        "id": "czL8nAt_4DSD"
      },
      "source": [
        "## 10. Imputación de Valores Faltantes"
      ]
    },
    {
      "cell_type": "code",
      "execution_count": 9,
      "metadata": {
        "colab": {
          "base_uri": "https://localhost:8080/"
        },
        "id": "I1OORoFA4DSD",
        "outputId": "70718a9a-9e34-4263-83c7-eb48bca435c6"
      },
      "outputs": [
        {
          "output_type": "stream",
          "name": "stdout",
          "text": [
            "Columnas numéricas: ['id', 'base_experience', 'height', 'weight']\n",
            "Columnas categóricas: ['name', 'types', 'abilities', 'moves', 'stats']\n"
          ]
        }
      ],
      "source": [
        "# Crear una copia del dataframe para trabajar\n",
        "df_limpio = df.copy()\n",
        "\n",
        "# Identificar columnas numéricas y categóricas\n",
        "columnas_numericas = df_limpio.select_dtypes(include=['int64', 'float64']).columns\n",
        "columnas_categoricas = df_limpio.select_dtypes(include=['object']).columns\n",
        "\n",
        "print(f\"Columnas numéricas: {list(columnas_numericas)}\")\n",
        "print(f\"Columnas categóricas: {list(columnas_categoricas)}\")"
      ]
    },
    {
      "cell_type": "code",
      "source": [
        "# Revisamos los NaN si hay\n",
        "filas_con_nan = df_limpio[df_limpio.isnull().any(axis=1)]\n",
        "\n",
        "print(\"Filas que contienen al menos un valor NaN:\")\n",
        "print(filas_con_nan)\n",
        "\n",
        "# También puedes verificar el total de NaN por columna\n",
        "print(\"\\nTotal de valores NaN por columna:\")\n",
        "print(df_limpio.isnull().sum())\n",
        "\n",
        "# O simplemente verificar si hay algún NaN\n",
        "total_nan = df_limpio.isnull().sum().sum()\n",
        "print(f\"\\nTotal de valores NaN en todo el dataset: {total_nan}\")"
      ],
      "metadata": {
        "colab": {
          "base_uri": "https://localhost:8080/"
        },
        "id": "FW1HU2CcHxgx",
        "outputId": "bff28c00-f4d1-46d8-ae9b-567ab45cfe87"
      },
      "execution_count": 13,
      "outputs": [
        {
          "output_type": "stream",
          "name": "stdout",
          "text": [
            "Filas que contienen al menos un valor NaN:\n",
            "Empty DataFrame\n",
            "Columns: [id, name, base_experience, height, weight, types, abilities, moves, stats]\n",
            "Index: []\n",
            "\n",
            "Total de valores NaN por columna:\n",
            "id                 0\n",
            "name               0\n",
            "base_experience    0\n",
            "height             0\n",
            "weight             0\n",
            "types              0\n",
            "abilities          0\n",
            "moves              0\n",
            "stats              0\n",
            "dtype: int64\n",
            "\n",
            "Total de valores NaN en todo el dataset: 0\n"
          ]
        }
      ]
    },
    {
      "cell_type": "code",
      "source": [
        "## Paso 1: Calcular la moda de la columna 'moves'\n",
        "print(\"\\n--- Imputando la columna 'moves' con la MODA ---\")\n",
        "\n",
        "# Verificamos si hay valores no nulos para calcular la moda\n",
        "if not df['moves'].dropna().empty:\n",
        "    # .mode()[0] devuelve el valor más frecuente. Usamos [0] si hay un empate.\n",
        "    moda_moves = df['moves'].mode()[0]\n",
        "    print(f\"La moda de la columna 'moves' (valor más frecuente) es: '{moda_moves}'\")\n",
        "else:\n",
        "    # Si la columna está completamente vacía (solo nulos), usamos un valor por defecto.\n",
        "    moda_moves = \"desconocido\"\n",
        "    print(f\"La columna 'moves' no contiene valores no nulos. Se usará '{moda_moves}' para imputar.\")\n",
        "\n",
        "\n",
        "# Paso 2: Rellenar los valores NaN en la columna 'moves' con la moda calculada\n",
        "df_limpio['moves'].fillna(moda_moves, inplace=True)\n",
        "\n",
        "print(\"\\nValores nulos DESPUÉS de la imputación en la columna 'moves':\")\n",
        "print(df_limpio['moves'].isnull().sum()) # Debería mostrar 0"
      ],
      "metadata": {
        "colab": {
          "base_uri": "https://localhost:8080/"
        },
        "id": "LjJy-HAOJnqx",
        "outputId": "d5fc2f2c-becd-470e-ec8a-ba0e1c1df830"
      },
      "execution_count": 12,
      "outputs": [
        {
          "output_type": "stream",
          "name": "stdout",
          "text": [
            "\n",
            "--- Imputando la columna 'moves' con la MODA ---\n",
            "La moda de la columna 'moves' (valor más frecuente) es: 'headbutt, tackle, body-slam, take-down, double-edge'\n",
            "\n",
            "Valores nulos DESPUÉS de la imputación en la columna 'moves':\n",
            "0\n"
          ]
        },
        {
          "output_type": "stream",
          "name": "stderr",
          "text": [
            "/tmp/ipython-input-12-143594674.py:16: FutureWarning: A value is trying to be set on a copy of a DataFrame or Series through chained assignment using an inplace method.\n",
            "The behavior will change in pandas 3.0. This inplace method will never work because the intermediate object on which we are setting values always behaves as a copy.\n",
            "\n",
            "For example, when doing 'df[col].method(value, inplace=True)', try using 'df.method({col: value}, inplace=True)' or df[col] = df[col].method(value) instead, to perform the operation inplace on the original object.\n",
            "\n",
            "\n",
            "  df_limpio['moves'].fillna(moda_moves, inplace=True)\n"
          ]
        }
      ]
    },
    {
      "cell_type": "code",
      "execution_count": null,
      "metadata": {
        "colab": {
          "base_uri": "https://localhost:8080/"
        },
        "id": "O5EHZiOA4DSD",
        "outputId": "2583154d-9de3-4fe5-f410-b11ab48cc31b"
      },
      "outputs": [
        {
          "output_type": "stream",
          "name": "stdout",
          "text": [
            "Imputando valores numéricos...\n",
            "  - No se encontraron valores nulos en columnas numéricas\n"
          ]
        }
      ],
      "source": [
        "# Imputación de valores numéricos con la media\n",
        "print(\"Imputando valores numéricos...\")\n",
        "valores_imputados_total = 0\n",
        "\n",
        "for col in columnas_numericas:\n",
        "    nulos = df_limpio[col].isnull().sum()\n",
        "    if nulos > 0:\n",
        "        media = df_limpio[col].mean()\n",
        "        df_limpio[col].fillna(media, inplace=True)\n",
        "        print(f\"  - {col}: Se imputaron {nulos} valores con la media = {media:.2f}\")\n",
        "        valores_imputados_total += nulos\n",
        "\n",
        "if valores_imputados_total == 0:\n",
        "    print(\"  - No se encontraron valores nulos en columnas numéricas\")"
      ]
    },
    {
      "cell_type": "code",
      "execution_count": null,
      "metadata": {
        "colab": {
          "base_uri": "https://localhost:8080/"
        },
        "id": "XvGQYrFX4DSE",
        "outputId": "f05b1e33-c1fe-4ce1-d0b4-b9dd437b231b"
      },
      "outputs": [
        {
          "output_type": "stream",
          "name": "stdout",
          "text": [
            "moves: Se imputaron 34 valores con la moda = 'headbutt, tackle, body-slam, take-down, double-edge'\n"
          ]
        },
        {
          "output_type": "stream",
          "name": "stderr",
          "text": [
            "/tmp/ipython-input-15-4215754597.py:13: FutureWarning: A value is trying to be set on a copy of a DataFrame or Series through chained assignment using an inplace method.\n",
            "The behavior will change in pandas 3.0. This inplace method will never work because the intermediate object on which we are setting values always behaves as a copy.\n",
            "\n",
            "For example, when doing 'df[col].method(value, inplace=True)', try using 'df.method({col: value}, inplace=True)' or df[col] = df[col].method(value) instead, to perform the operation inplace on the original object.\n",
            "\n",
            "\n",
            "  df_limpio[col].fillna(moda, inplace=True)\n"
          ]
        }
      ],
      "source": [
        "# Imputación de valores categóricos con la moda\n",
        "for col in columnas_categoricas:\n",
        "    if df_limpio[col].isnull().sum() > 0:\n",
        "        # Para Type 2, los valores nulos significan que no hay tipo secundario\n",
        "        if 'type_2' in col.lower():\n",
        "            valores_imputados = df_limpio[col].isnull().sum()\n",
        "            df_limpio[col].fillna('Ninguno', inplace=True)\n",
        "            print(f\"{col}: Se imputaron {valores_imputados} valores con 'Ninguno' (sin tipo secundario)\")\n",
        "        else:\n",
        "            # Para otras columnas, usar la moda (el valor más frecuente)\n",
        "            moda = df_limpio[col].mode()[0] if len(df_limpio[col].mode()) > 0 else 'Desconocido'\n",
        "            valores_imputados = df_limpio[col].isnull().sum()\n",
        "            df_limpio[col].fillna(moda, inplace=True)\n",
        "            print(f\"{col}: Se imputaron {valores_imputados} valores con la moda = '{moda}'\")\n",
        "\n",
        "    # Reemplazar espacios vacíos\n",
        "    espacios_vacios = df_limpio[col].astype(str).str.strip().eq('').sum()\n",
        "    if espacios_vacios > 0:\n",
        "        df_limpio[col] = df_limpio[col].replace('', 'Desconocido')\n",
        "        print(f\"{col}: Se reemplazaron {espacios_vacios} espacios vacíos con 'Desconocido'\")"
      ]
    },
    {
      "cell_type": "code",
      "execution_count": null,
      "metadata": {
        "colab": {
          "base_uri": "https://localhost:8080/"
        },
        "id": "UlHKOO0i4DSE",
        "outputId": "e363292e-0765-4646-bd98-7fe02068e228"
      },
      "outputs": [
        {
          "output_type": "stream",
          "name": "stdout",
          "text": [
            "\n",
            "Verificación final de valores nulos:\n",
            "Total de valores nulos después de la imputación: 0\n"
          ]
        }
      ],
      "source": [
        "# Verificar que no quedan valores nulos,Recordar que ahora el df se llama df_limpio\n",
        "print(\"\\nVerificación final de valores nulos:\")\n",
        "print(f\"Total de valores nulos después de la imputación: {df_limpio.isnull().sum().sum()}\")"
      ]
    },
    {
      "cell_type": "markdown",
      "metadata": {
        "id": "PKjTyfMR4DSE"
      },
      "source": [
        "## 11. Análisis de Estadísticas de Combate"
      ]
    },
    {
      "cell_type": "code",
      "source": [
        " # Histogramas para estadísticas de combate (versión simple)\n",
        "  # Primero extraer las estadísticas de la columna 'stats'\n",
        "\n",
        "  # Crear columnas de estadísticas básicas\n",
        "if 'stats' in df_limpio.columns:\n",
        "      # Extraer HP\n",
        "      df_limpio['hp'] = df_limpio['stats'].str.extract(r'hp=(\\d+)').astype(float)\n",
        "      # Extraer Attack\n",
        "      df_limpio['attack'] = df_limpio['stats'].str.extract(r'attack=(\\d+)').astype(float)\n",
        "      # Extraer Defense\n",
        "      df_limpio['defense'] = df_limpio['stats'].str.extract(r'defense=(\\d+)').astype(float)\n",
        "      # Extraer Speed\n",
        "      df_limpio['speed'] = df_limpio['stats'].str.extract(r'speed=(\\d+)').astype(float)\n",
        "\n",
        "  # Hacer histogramas simples\n",
        "plt.figure(figsize=(12, 8))\n",
        "\n",
        "plt.subplot(2, 2, 1)\n",
        "df_limpio['hp'].hist(bins=20)\n",
        "plt.title('HP')\n",
        "\n",
        "plt.subplot(2, 2, 2)\n",
        "df_limpio['attack'].hist(bins=20)\n",
        "plt.title('Attack')\n",
        "\n",
        "plt.subplot(2, 2, 3)\n",
        "df_limpio['defense'].hist(bins=20)\n",
        "plt.title('Defense')\n",
        "\n",
        "plt.subplot(2, 2, 4)\n",
        "df_limpio['speed'].hist(bins=20)\n",
        "plt.title('Speed')\n",
        "\n",
        "plt.tight_layout()\n",
        "plt.show()\n"
      ],
      "metadata": {
        "colab": {
          "base_uri": "https://localhost:8080/",
          "height": 807
        },
        "id": "P1QJJLTMccLo",
        "outputId": "1b993588-7005-4e60-a81f-7a48e182c70d"
      },
      "execution_count": null,
      "outputs": [
        {
          "output_type": "display_data",
          "data": {
            "text/plain": [
              "<Figure size 1200x800 with 4 Axes>"
            ],
            "image/png": "[encoded data removed]"
          },
          "metadata": {}
        }
      ]
    },
    {
      "cell_type": "code",
      "source": [
        "# Gráficos de barras para tipos de Pokémon\n",
        "columnas_tipo = [col for col in df_limpio.columns if 'type' in col.lower()]\n",
        "\n",
        "if len(columnas_tipo) > 0:\n",
        "    n_cols = min(2, len(columnas_tipo))\n",
        "    n_rows = (len(columnas_tipo) + n_cols - 1) // n_cols\n",
        "\n",
        "    fig, axes = plt.subplots(n_rows, n_cols, figsize=(15, 6*n_rows))\n",
        "    axes = axes.flatten() if n_rows > 1 or n_cols > 1 else [axes]\n",
        "\n",
        "    for i, col in enumerate(columnas_tipo):\n",
        "        if i < len(axes):\n",
        "            # Mostrar solo los 10 tipos más frecuentes\n",
        "            top_types = df_limpio[col].value_counts().head(10)\n",
        "            top_types.plot(kind='bar', ax=axes[i], rot=45)\n",
        "            axes[i].set_title(f'Distribución de {col}')\n",
        "            axes[i].set_xlabel(col)\n",
        "            axes[i].set_ylabel('Frecuencia')\n",
        "\n",
        "    # Ocultar ejes vacíos\n",
        "    for i in range(len(columnas_tipo), len(axes)):\n",
        "        axes[i].set_visible(False)\n",
        "\n",
        "    plt.tight_layout()\n",
        "    plt.show()\n",
        "else:\n",
        "    print(\"No se encontraron columnas de tipo para graficar\")"
      ],
      "metadata": {
        "colab": {
          "base_uri": "https://localhost:8080/",
          "height": 607
        },
        "id": "Z33irNoydwnv",
        "outputId": "f2dd2877-c031-494a-b6f2-7412b25f482b"
      },
      "execution_count": null,
      "outputs": [
        {
          "output_type": "display_data",
          "data": {
            "text/plain": [
              "<Figure size 1500x600 with 1 Axes>"
            ],
            "image/png": "[encoded data removed]"
          },
          "metadata": {}
        }
      ]
    },
    {
      "cell_type": "code",
      "source": [
        "# Boxplots para detectar outliers en estadísticas de combate\n",
        "columnas_stats = ['hp', 'attack', 'defense', 'sp._atk', 'sp._def', 'speed']\n",
        "columnas_disponibles = [col for col in columnas_stats if col in df_limpio.columns]\n",
        "\n",
        "if len(columnas_disponibles) > 0:\n",
        "    n_cols = min(3, len(columnas_disponibles))\n",
        "    n_rows = (len(columnas_disponibles) + n_cols - 1) // n_cols\n",
        "\n",
        "    fig, axes = plt.subplots(n_rows, n_cols, figsize=(15, 5*n_rows))\n",
        "    axes = axes.flatten() if n_rows > 1 or n_cols > 1 else [axes]\n",
        "\n",
        "    for i, col in enumerate(columnas_disponibles):\n",
        "        if i < len(axes):\n",
        "            df_limpio.boxplot(column=col, ax=axes[i])\n",
        "            axes[i].set_title(f'Boxplot de {col}')\n",
        "            axes[i].set_ylabel(col)\n",
        "\n",
        "    # Ocultar ejes vacíos\n",
        "    for i in range(len(columnas_disponibles), len(axes)):\n",
        "        axes[i].set_visible(False)\n",
        "\n",
        "    plt.tight_layout()\n",
        "    plt.show()\n",
        "else:\n",
        "    print(\"No se encontraron estadísticas de combate para boxplots\")"
      ],
      "metadata": {
        "colab": {
          "base_uri": "https://localhost:8080/",
          "height": 1000
        },
        "id": "rNErqzVtd4u-",
        "outputId": "20ebfc6b-c065-4b97-fbb4-3a6b51d89c36"
      },
      "execution_count": null,
      "outputs": [
        {
          "output_type": "display_data",
          "data": {
            "text/plain": [
              "<Figure size 1500x1000 with 6 Axes>"
            ],
            "image/png": "[encoded data removed]"
          },
          "metadata": {}
        }
      ]
    },
    {
      "cell_type": "code",
      "source": [
        "# Matriz de correlación entre estadísticas de combate\n",
        "columnas_stats = ['hp', 'attack', 'defense', 'sp._atk', 'sp._def', 'speed']\n",
        "columnas_disponibles = [col for col in columnas_stats if col in df_limpio.columns]\n",
        "\n",
        "# Agregar total si existe\n",
        "if 'total' in df_limpio.columns:\n",
        "    columnas_disponibles.append('total')\n",
        "\n",
        "if len(columnas_disponibles) > 1:\n",
        "    plt.figure(figsize=(10, 8))\n",
        "    matriz_corr = df_limpio[columnas_disponibles].corr()\n",
        "    sns.heatmap(matriz_corr, annot=True, cmap='coolwarm', center=0,\n",
        "                square=True, linewidths=0.5, cbar_kws={\"shrink\": .8})\n",
        "    plt.title('Matriz de Correlación entre Estadísticas de Combate')\n",
        "    plt.tight_layout()\n",
        "    plt.show()\n",
        "else:\n",
        "    print(\"Se necesitan al menos 2 variables numéricas para la matriz de correlación\")"
      ],
      "metadata": {
        "colab": {
          "base_uri": "https://localhost:8080/",
          "height": 807
        },
        "id": "GSzXlJ8ld_5u",
        "outputId": "005d4bca-cea3-47df-dfca-da06c36bacaa"
      },
      "execution_count": null,
      "outputs": [
        {
          "output_type": "display_data",
          "data": {
            "text/plain": [
              "<Figure size 1000x800 with 2 Axes>"
            ],
            "image/png": "[encoded data removed]"
          },
          "metadata": {}
        }
      ]
    },
    {
      "cell_type": "code",
      "execution_count": null,
      "metadata": {
        "colab": {
          "base_uri": "https://localhost:8080/"
        },
        "id": "6LV1GzE04DSE",
        "outputId": "7c23fc09-15d8-4df3-dde9-8107f83ccbf9"
      },
      "outputs": [
        {
          "output_type": "stream",
          "name": "stdout",
          "text": [
            "Analizando columnas numéricas del dataset...\n",
            "\n",
            "Columnas numéricas encontradas: ['id', 'base_experience', 'height', 'weight']\n",
            "\n",
            "Estadísticas básicas de las primeras columnas numéricas:\n",
            "\n",
            "id:\n",
            "  - Mínimo: 1.00\n",
            "  - Máximo: 10277.00\n",
            "  - Promedio: 2560.93\n",
            "\n",
            "base_experience:\n",
            "  - Mínimo: 36.00\n",
            "  - Máximo: 608.00\n",
            "  - Promedio: 161.94\n",
            "\n",
            "height:\n",
            "  - Mínimo: 1.00\n",
            "  - Máximo: 1000.00\n",
            "  - Promedio: 20.47\n"
          ]
        }
      ],
      "source": [
        "# Análisis de columnas numéricas principales\n",
        "print(\"Analizando columnas numéricas del dataset...\")\n",
        "\n",
        "# Mostrar las primeras 5 columnas numéricas\n",
        "if len(columnas_numericas) > 0:\n",
        "    print(f\"\\nColumnas numéricas encontradas: {list(columnas_numericas)[:5]}\")\n",
        "\n",
        "    # Mostrar estadísticas básicas\n",
        "    print(\"\\nEstadísticas básicas de las primeras columnas numéricas:\")\n",
        "    for col in list(columnas_numericas)[:3]:\n",
        "        print(f\"\\n{col}:\")\n",
        "        print(f\"  - Mínimo: {df_limpio[col].min():.2f}\")\n",
        "        print(f\"  - Máximo: {df_limpio[col].max():.2f}\")\n",
        "        print(f\"  - Promedio: {df_limpio[col].mean():.2f}\")\n",
        "else:\n",
        "    print(\"No se encontraron columnas numéricas en el dataset\")"
      ]
    },
    {
      "cell_type": "markdown",
      "metadata": {
        "id": "BN2Oq2gK4DSE"
      },
      "source": [
        "## 12. Análisis de Pokémon Legendarios"
      ]
    },
    {
      "cell_type": "code",
      "execution_count": null,
      "metadata": {
        "colab": {
          "base_uri": "https://localhost:8080/"
        },
        "id": "jj06Ju-04DSE",
        "outputId": "fa6cfa37-5437-48e8-b23d-a5f0015a607d"
      },
      "outputs": [
        {
          "output_type": "stream",
          "name": "stdout",
          "text": [
            "Analizando variables categóricas...\n",
            "\n",
            "Total de columnas categóricas: 5\n",
            "\n",
            "name:\n",
            "  - Valores únicos: 1302\n",
            "  - Top 5 valores más frecuentes:\n",
            "    • terapagos-stellar: 1\n",
            "    • bulbasaur: 1\n",
            "    • ivysaur: 1\n",
            "    • venusaur: 1\n",
            "    • charmander: 1\n",
            "\n",
            "types:\n",
            "  - Valores únicos: 221\n",
            "  - Top 5 valores más frecuentes:\n",
            "    • normal: 86\n",
            "    • water: 84\n",
            "    • electric: 52\n",
            "    • grass: 49\n",
            "    • psychic: 47\n",
            "\n",
            "abilities:\n",
            "  - Valores únicos: 707\n",
            "  - Top 5 valores más frecuentes:\n",
            "    • levitate: 36\n",
            "    • static, lightning-rod: 19\n",
            "    • shields-down: 14\n",
            "    • beast-boost: 11\n",
            "    • protosynthesis: 10\n"
          ]
        }
      ],
      "source": [
        "  # Análisis de variables categóricas principales\n",
        "  print(\"Analizando variables categóricas...\")\n",
        "\n",
        "if len(columnas_categoricas) > 0:\n",
        "      print(f\"\\nTotal de columnas categóricas: {len(columnas_categoricas)}\")\n",
        "\n",
        "      # Mostrar información de las primeras 3 columnas categóricas\n",
        "      for col in list(columnas_categoricas)[:3]:\n",
        "          num_valores = df_limpio[col].nunique()\n",
        "          print(f\"\\n{col}:\")\n",
        "          print(f\"  - Valores únicos: {num_valores}\")\n",
        "\n",
        "          # Si tiene pocos valores, mostrar la distribución\n",
        "          if num_valores <= 10:\n",
        "              print(\"  - Distribución:\")\n",
        "              for valor, cuenta in df_limpio[col].value_counts().head(5).items():\n",
        "                  print(f\"    • {valor}: {cuenta}\")\n",
        "          else:\n",
        "              # Si tiene muchos valores, mostrar los top 5\n",
        "              print(\"  - Top 5 valores más frecuentes:\")\n",
        "              for valor, cuenta in df_limpio[col].value_counts().head(5).items():\n",
        "                  print(f\"    • {valor}: {cuenta}\")\n",
        "  else:\n",
        "      print(\"\\nNo se encontraron columnas categóricas en el dataset\")"
      ]
    },
    {
      "cell_type": "code",
      "execution_count": null,
      "metadata": {
        "colab": {
          "base_uri": "https://localhost:8080/"
        },
        "id": "9EUb0GfC4DSF",
        "outputId": "8270fcfe-4a96-477f-c0db-ee263d3c5f9d"
      },
      "outputs": [
        {
          "output_type": "stream",
          "name": "stdout",
          "text": [
            "Análisis de Outliers en columnas numéricas:\n",
            "\n",
            "id:\n",
            "  - Outliers encontrados: 277 (21.27%)\n",
            "  - Límites IQR: [-649.50, 1952.50]\n",
            "  - Rango real: [1.00, 10277.00]\n",
            "\n",
            "base_experience:\n",
            "  - Outliers encontrados: 2 (0.15%)\n",
            "  - Límites IQR: [-156.25, 449.75]\n",
            "  - Rango real: [36.00, 608.00]\n",
            "\n",
            "height:\n",
            "  - Outliers encontrados: 94 (7.22%)\n",
            "  - Límites IQR: [-11.50, 32.50]\n",
            "  - Rango real: [1.00, 1000.00]\n",
            "\n",
            "weight:\n",
            "  - Outliers encontrados: 165 (12.67%)\n",
            "  - Límites IQR: [-1003.88, 1911.12]\n",
            "  - Rango real: [0.00, 10000.00]\n"
          ]
        }
      ],
      "source": [
        "# Análisis de Outliers\n",
        "print(\"Análisis de Outliers en columnas numéricas:\")\n",
        "\n",
        "def detectar_outliers_iqr(df, columna):\n",
        "      Q1 = df[columna].quantile(0.25)\n",
        "      Q3 = df[columna].quantile(0.75)\n",
        "      IQR = Q3 - Q1\n",
        "      limite_inferior = Q1 - 1.5 * IQR\n",
        "      limite_superior = Q3 + 1.5 * IQR\n",
        "\n",
        "      outliers = df[(df[columna] < limite_inferior) | (df[columna] > limite_superior)]\n",
        "      return outliers, limite_inferior, limite_superior\n",
        "\n",
        "  # Analizar outliers para las primeras columnas numéricas\n",
        "if len(columnas_numericas) > 0:\n",
        "      # Analizar máximo 5 columnas numéricas\n",
        "      for col in list(columnas_numericas)[:5]:\n",
        "          outliers, lim_inf, lim_sup = detectar_outliers_iqr(df_limpio, col)\n",
        "          porcentaje_outliers = (len(outliers) / len(df_limpio)) * 100\n",
        "\n",
        "      print(f\"\\n{col}:\")\n",
        "      print(f\"  - Outliers encontrados: {len(outliers)} ({porcentaje_outliers:.2f}%)\")\n",
        "      print(f\"  - Límites IQR: [{lim_inf:.2f}, {lim_sup:.2f}]\")\n",
        "      print(f\"  - Rango real: [{df_limpio[col].min():.2f}, {df_limpio[col].max():.2f}]\")\n",
        "else:\n",
        "print(\"\\nNo hay columnas numéricas para analizar outliers\")"
      ]
    },
    {
      "cell_type": "code",
      "execution_count": null,
      "metadata": {
        "colab": {
          "base_uri": "https://localhost:8080/"
        },
        "id": "rE22ReR44DSF",
        "outputId": "1dd1b682-eebb-4849-c5e4-2c0290d6da45"
      },
      "outputs": [
        {
          "output_type": "stream",
          "name": "stdout",
          "text": [
            "=== RESUMEN GENERAL DEL DATASET ===\n",
            "\n",
            "1. INFORMACIÓN BÁSICA:\n",
            "   - Total de filas: 1,302\n",
            "   - Total de columnas: 9\n",
            "   - Columnas numéricas: 4\n",
            "   - Columnas categóricas: 5\n",
            "\n",
            "2. COLUMNAS DEL DATASET:\n",
            "   - Numéricas: ['id', 'base_experience', 'height', 'weight']\n",
            "   - Categóricas: ['name', 'types', 'abilities', 'moves', 'stats']\n",
            "\n",
            "3. VALORES NULOS:\n",
            "   - Total de valores nulos: 0\n",
            "   - Porcentaje de datos completos: 100.00%\n"
          ]
        }
      ],
      "source": [
        "# Resumen general del dataset\n",
        "print(\"=== RESUMEN GENERAL DEL DATASET ===\")\n",
        "\n",
        "print(f\"\\n1. INFORMACIÓN BÁSICA:\")\n",
        "print(f\"   - Total de filas: {len(df_limpio):,}\")\n",
        "print(f\"   - Total de columnas: {len(df_limpio.columns)}\")\n",
        "print(f\"   - Columnas numéricas: {len(columnas_numericas)}\")\n",
        "print(f\"   - Columnas categóricas: {len(columnas_categoricas)}\")\n",
        "\n",
        "print(f\"\\n2. COLUMNAS DEL DATASET:\")\n",
        "if len(columnas_numericas) > 0:\n",
        "    print(f\"   - Numéricas: {list(columnas_numericas)[:5]}\")\n",
        "if len(columnas_categoricas) > 0:\n",
        "    print(f\"   - Categóricas: {list(columnas_categoricas)[:5]}\")\n",
        "\n",
        "print(f\"\\n3. VALORES NULOS:\")\n",
        "total_nulos = df_limpio.isnull().sum().sum()\n",
        "print(f\"   - Total de valores nulos: {total_nulos}\")\n",
        "print(f\"   - Porcentaje de datos completos: {((len(df_limpio) * len(df_limpio.columns) - total_nulos) / (len(df_limpio) * len(df_limpio.columns)) * 100):.2f}%\")"
      ]
    },
    {
      "cell_type": "code",
      "execution_count": null,
      "metadata": {
        "colab": {
          "base_uri": "https://localhost:8080/"
        },
        "id": "J0Bf05lc4DSF",
        "outputId": "130e947a-5e98-4e37-f9d4-a206e144fac3"
      },
      "outputs": [
        {
          "output_type": "stream",
          "name": "stdout",
          "text": [
            "No se encontró columna de generación\n",
            "\n",
            "Columnas disponibles en el dataset:\n",
            "['id', 'name', 'base_experience', 'height', 'weight', 'types', 'abilities', 'moves', 'stats']\n"
          ]
        }
      ],
      "source": [
        "# Buscar columna de generación\n",
        "columna_generacion = None\n",
        "for col in df_limpio.columns:\n",
        "    if 'generation' in col.lower() or 'gen' in col.lower():\n",
        "        columna_generacion = col\n",
        "        break\n",
        "\n",
        "if columna_generacion:\n",
        "    print(f\"Columna de generación encontrada: {columna_generacion}\")\n",
        "\n",
        "    # Distribución por generación\n",
        "    print(\"\\nDistribución de Pokémon por generación:\")\n",
        "    print(df_limpio[columna_generacion].value_counts().sort_index())\n",
        "\n",
        "    # Evolución del poder promedio por generación\n",
        "    if 'total' in df_limpio.columns:\n",
        "        poder_por_gen = df_limpio.groupby(columna_generacion)['total'].mean().sort_index()\n",
        "        print(\"\\nPoder promedio por generación:\")\n",
        "        print(poder_por_gen)\n",
        "else:\n",
        "    print(\"No se encontró columna de generación\")\n",
        "    print(\"\\nColumnas disponibles en el dataset:\")\n",
        "    print(df_limpio.columns.tolist())"
      ]
    },
    {
      "cell_type": "markdown",
      "metadata": {
        "id": "Pj2W5esX4DSF"
      },
      "source": [
        "## 16. Top 10 Pokémon más Poderosos"
      ]
    },
    {
      "cell_type": "code",
      "execution_count": null,
      "metadata": {
        "colab": {
          "base_uri": "https://localhost:8080/"
        },
        "id": "qWFNn3-B4DSF",
        "outputId": "aae523fb-555f-4a6b-e13e-2ef95273eef9"
      },
      "outputs": [
        {
          "output_type": "stream",
          "name": "stdout",
          "text": [
            "Correlaciones entre variables numéricas:\n",
            "                       id  base_experience    height    weight\n",
            "id               1.000000         0.264472  0.299483  0.310241\n",
            "base_experience  0.264472         1.000000  0.256212  0.365585\n",
            "height           0.299483         0.256212  1.000000  0.674194\n",
            "weight           0.310241         0.365585  0.674194  1.000000\n"
          ]
        }
      ],
      "source": [
        "# Matriz de correlación\n",
        "print(\"Correlaciones entre variables numéricas:\")\n",
        "\n",
        "if len(columnas_numericas) > 1:\n",
        "    matriz_corr = df_limpio[columnas_numericas].corr()\n",
        "    print(matriz_corr)\n",
        "else:\n",
        "    print(\"No hay suficientes columnas numéricas\")"
      ]
    },
    {
      "cell_type": "markdown",
      "metadata": {
        "id": "0Gfhf_i04DSG"
      },
      "source": [
        "## 17. Resumen de Hallazgos"
      ]
    },
    {
      "cell_type": "code",
      "execution_count": null,
      "metadata": {
        "colab": {
          "base_uri": "https://localhost:8080/"
        },
        "id": "bR7MGCz_4DSG",
        "outputId": "86cdfc2a-3fca-4499-9395-3e24d844d297"
      },
      "outputs": [
        {
          "output_type": "stream",
          "name": "stdout",
          "text": [
            "=== TOP 10 REGISTROS ===\n",
            "Top 10 registros por 'id':\n",
            "         id                      name  base_experience  height  weight  \\\n",
            "1301  10277         terapagos-stellar               90      17     770   \n",
            "1300  10276        terapagos-terastal               90       3     160   \n",
            "1299  10275  ogerpon-cornerstone-mask              275      12     398   \n",
            "1298  10274  ogerpon-hearthflame-mask              275      12     398   \n",
            "1297  10273   ogerpon-wellspring-mask              275      12     398   \n",
            "1296  10272        ursaluna-bloodmoon              275      24    2900   \n",
            "1295  10271       miraidon-glide-mode              335      28    2400   \n",
            "1294  10270     miraidon-aquatic-mode              335      28    2400   \n",
            "1293  10269       miraidon-drive-mode              335      28    2400   \n",
            "1292  10268   miraidon-low-power-mode              335      28    2400   \n",
            "\n",
            "                 types                     abilities  \\\n",
            "1301            normal                 teraform-zero   \n",
            "1300            normal                    tera-shell   \n",
            "1299       grass, rock                        sturdy   \n",
            "1298       grass, fire                  mold-breaker   \n",
            "1297      grass, water                  water-absorb   \n",
            "1296    ground, normal                     minds-eye   \n",
            "1295  electric, dragon  hadron-engine, hadron-engine   \n",
            "1294  electric, dragon  hadron-engine, hadron-engine   \n",
            "1293  electric, dragon  hadron-engine, hadron-engine   \n",
            "1292  electric, dragon  hadron-engine, hadron-engine   \n",
            "\n",
            "                                                  moves  \\\n",
            "1301  headbutt, body-slam, take-down, double-edge, roar   \n",
            "1300  headbutt, body-slam, take-down, double-edge, roar   \n",
            "1299  swords-dance, slam, vine-whip, double-kick, ta...   \n",
            "1298  swords-dance, slam, vine-whip, double-kick, ta...   \n",
            "1297  swords-dance, slam, vine-whip, double-kick, ta...   \n",
            "1296  fire-punch, ice-punch, thunder-punch, scratch,...   \n",
            "1295  swords-dance, body-slam, take-down, hyper-beam...   \n",
            "1294  swords-dance, body-slam, take-down, hyper-beam...   \n",
            "1293  swords-dance, body-slam, take-down, hyper-beam...   \n",
            "1292  swords-dance, body-slam, take-down, hyper-beam...   \n",
            "\n",
            "                                                  stats  \n",
            "1301  hp=160, attack=105, defense=110, special-attac...  \n",
            "1300  hp=95, attack=95, defense=110, special-attack=...  \n",
            "1299  hp=80, attack=120, defense=84, special-attack=...  \n",
            "1298  hp=80, attack=120, defense=84, special-attack=...  \n",
            "1297  hp=80, attack=120, defense=84, special-attack=...  \n",
            "1296  hp=113, attack=70, defense=120, special-attack...  \n",
            "1295  hp=100, attack=85, defense=100, special-attack...  \n",
            "1294  hp=100, attack=85, defense=100, special-attack...  \n",
            "1293  hp=100, attack=85, defense=100, special-attack...  \n",
            "1292  hp=100, attack=85, defense=100, special-attack...  \n"
          ]
        }
      ],
      "source": [
        "# Identificar los registros con valores más altos\n",
        "print(\"=== TOP 10 REGISTROS ===\")\n",
        "\n",
        "# Buscar si existe alguna columna numérica para ordenar\n",
        "if len(columnas_numericas) > 0:\n",
        "    # Usar la primera columna numérica disponible\n",
        "    columna_ordenar = columnas_numericas[0]\n",
        "\n",
        "    # Obtener top 10\n",
        "    top_10 = df_limpio.nlargest(10, columna_ordenar)\n",
        "    print(f\"Top 10 registros por '{columna_ordenar}':\")\n",
        "    print(top_10)\n",
        "else:\n",
        "    print(\"No hay columnas numéricas para ordenar\")\n",
        "    print(\"Mostrando las primeras 10 filas:\")\n",
        "    print(df_limpio.head(10))"
      ]
    },
    {
      "cell_type": "markdown",
      "metadata": {
        "id": "OQm8-Tax4DSG"
      },
      "source": [
        "## 18. Identificación de Problemática a Abordar"
      ]
    },
    {
      "cell_type": "code",
      "execution_count": null,
      "metadata": {
        "colab": {
          "base_uri": "https://localhost:8080/"
        },
        "id": "61N0KY8B4DSL",
        "outputId": "ccf36400-e79c-4183-cbbb-241b56c3cbcd"
      },
      "outputs": [
        {
          "output_type": "stream",
          "name": "stdout",
          "text": [
            "\n",
            "1. CLASIFICACIÓN:\n",
            "   - Predecir una variable categórica usando las numéricas\n",
            "   - Variables categóricas disponibles: ['name', 'types', 'abilities']\n",
            "   - Variables numéricas disponibles: ['id', 'base_experience', 'height']\n",
            "\n",
            "2. REGRESIÓN:\n",
            "   - Predecir una variable numérica usando las demás\n",
            "   - Posibles variables objetivo: ['id', 'base_experience', 'height']\n",
            "\n",
            "3. CLUSTERING:\n",
            "   - Agrupar registros similares\n",
            "   - No requiere variable objetivo\n",
            "   - Usar las 4 variables numéricas disponibles\n",
            "\n",
            "RECOMENDACIÓN BASADA EN TUS DATOS:\n",
            "   - CLASIFICACIÓN: Tienes variables categóricas que puedes predecir\n"
          ]
        }
      ],
      "source": [
        "# Verificar qué columnas tenemos para sugerir problemas específicos\n",
        "tiene_categoricas = len(columnas_categoricas) > 0\n",
        "tiene_numericas = len(columnas_numericas) > 0\n",
        "\n",
        "if tiene_categoricas and tiene_numericas:\n",
        "    print(\"\\n1. CLASIFICACIÓN:\")\n",
        "    print(\"   - Predecir una variable categórica usando las numéricas\")\n",
        "    print(f\"   - Variables categóricas disponibles: {list(columnas_categoricas)[:3]}\")\n",
        "    print(f\"   - Variables numéricas disponibles: {list(columnas_numericas)[:3]}\")\n",
        "\n",
        "if tiene_numericas and len(columnas_numericas) > 1:\n",
        "    print(\"\\n2. REGRESIÓN:\")\n",
        "    print(\"   - Predecir una variable numérica usando las demás\")\n",
        "    print(f\"   - Posibles variables objetivo: {list(columnas_numericas)[:3]}\")\n",
        "\n",
        "if tiene_numericas and len(columnas_numericas) > 3:\n",
        "    print(\"\\n3. CLUSTERING:\")\n",
        "    print(\"   - Agrupar registros similares\")\n",
        "    print(\"   - No requiere variable objetivo\")\n",
        "    print(f\"   - Usar las {len(columnas_numericas)} variables numéricas disponibles\")\n",
        "\n",
        "print(\"\\nRECOMENDACIÓN BASADA EN TUS DATOS:\")\n",
        "if len(columnas_numericas) > 5:\n",
        "    print(\"   - CLUSTERING: Tienes muchas variables numéricas, ideal para encontrar grupos\")\n",
        "elif tiene_categoricas and tiene_numericas:\n",
        "    print(\"   - CLASIFICACIÓN: Tienes variables categóricas que puedes predecir\")\n",
        "else:\n",
        "    print(\"   - Necesitas más análisis para determinar el mejor enfoque\")"
      ]
    }
  ],
  "metadata": {
    "kernelspec": {
      "display_name": "Python 3",
      "language": "python",
      "name": "python3"
    },
    "language_info": {
      "codemirror_mode": {
        "name": "ipython",
        "version": 3
      },
      "file_extension": ".py",
      "mimetype": "text/x-python",
      "name": "python",
      "nbconvert_exporter": "python",
      "pygments_lexer": "ipython3",
      "version": "3.8.0"
    },
    "colab": {
      "provenance": []
    }
  },
  "nbformat": 4,
  "nbformat_minor": 0
}